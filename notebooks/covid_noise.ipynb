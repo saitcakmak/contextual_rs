{
 "cells": [
  {
   "cell_type": "markdown",
   "metadata": {
    "collapsed": true,
    "pycharm": {
     "name": "#%% md\n"
    }
   },
   "source": [
    "The PCS achieved in the new Covid problems is not good. Let's check the variance to understand what is going on."
   ]
  },
  {
   "cell_type": "code",
   "execution_count": 1,
   "outputs": [],
   "source": [
    "import torch\n",
    "from contextual_rs.test_functions.covid_exp_class import CovidSimV2\n",
    "\n",
    "covid_arms_v3 = torch.tensor(\n",
    "    [\n",
    "        [0.2, 0.3],\n",
    "        [0.2, 0.4],\n",
    "        [0.2, 0.5],\n",
    "        [0.3, 0.2],\n",
    "        [0.3, 0.3],\n",
    "        [0.3, 0.4],\n",
    "        [0.3, 0.5],\n",
    "        [0.4, 0.2],\n",
    "        [0.4, 0.3],\n",
    "        [0.4, 0.4],\n",
    "        [0.5, 0.2],\n",
    "        [0.5, 0.3],\n",
    "    ]\n",
    ")\n",
    "\n",
    "sim = CovidSimV2(negate=True)\n",
    "\n",
    "contexts = sim.context_samples"
   ],
   "metadata": {
    "collapsed": false,
    "pycharm": {
     "name": "#%%\n"
    }
   }
  },
  {
   "cell_type": "markdown",
   "source": [
    "This is all contexts for a given arm."
   ],
   "metadata": {
    "collapsed": false,
    "pycharm": {
     "name": "#%% md\n"
    }
   }
  },
  {
   "cell_type": "code",
   "execution_count": 6,
   "outputs": [
    {
     "data": {
      "text/plain": "(tensor([-1316.9000, -1480.7000, -1663.5333, -1921.7000, -1488.0333, -1767.0000,\n         -2047.9667, -2460.6667, -1674.0333, -2063.8000, -2569.3333, -3115.2000,\n         -1895.9333, -2402.7666, -3134.1333, -4148.3667]),\n tensor([ 24.5558,  36.4958,  53.2365,  79.2565,  40.9975,  46.7436,  77.0649,\n         104.0856,  32.8628,  69.1407, 100.8612, 166.9797,  59.9379, 106.9694,\n         170.3503, 228.2178]))"
     },
     "execution_count": 6,
     "metadata": {},
     "output_type": "execute_result"
    }
   ],
   "source": [
    "X = torch.cat([covid_arms_v3[0].expand(contexts.shape[0], -1), contexts], dim=-1)\n",
    "\n",
    "evals = torch.empty(30, contexts.shape[0])\n",
    "for seed in range(1, 31):\n",
    "    evals[seed-1] = sim(X, seed).view(-1)\n",
    "\n",
    "evals.mean(dim=0), evals.std(dim=0)"
   ],
   "metadata": {
    "collapsed": false,
    "pycharm": {
     "name": "#%%\n"
    }
   }
  },
  {
   "cell_type": "markdown",
   "source": [
    "We actually care about all arms for a given context."
   ],
   "metadata": {
    "collapsed": false,
    "pycharm": {
     "name": "#%% md\n"
    }
   }
  },
  {
   "cell_type": "code",
   "execution_count": 7,
   "outputs": [
    {
     "data": {
      "text/plain": "(tensor([-1316.9000, -1320.0000, -1327.4667, -1330.1666, -1326.9667, -1321.7333,\n         -1338.2333, -1329.1333, -1326.9667, -1334.0667, -1336.6333, -1329.2333]),\n tensor([24.5558, 21.9780, 33.1077, 32.1270, 25.5187, 36.4871, 32.8200, 25.8053,\n         21.4629, 23.0650, 26.5648, 29.1674]))"
     },
     "execution_count": 7,
     "metadata": {},
     "output_type": "execute_result"
    }
   ],
   "source": [
    "X = torch.cat([covid_arms_v3, contexts[0].expand(covid_arms_v3.shape[0], -1)], dim=-1)\n",
    "\n",
    "evals = torch.empty(30, X.shape[0])\n",
    "for seed in range(1, 31):\n",
    "    evals[seed-1] = sim(X, seed).view(-1)\n",
    "\n",
    "evals.mean(dim=0), evals.std(dim=0)"
   ],
   "metadata": {
    "collapsed": false,
    "pycharm": {
     "name": "#%%\n"
    }
   }
  },
  {
   "cell_type": "code",
   "execution_count": 8,
   "outputs": [
    {
     "data": {
      "text/plain": "(tensor([-1312.4000, -1308.3000, -1319.1000, -1347.4000, -1339.3000, -1340.9000,\n         -1334.4000, -1334.8000, -1338.3000, -1340.3000, -1350.4000, -1335.0000]),\n tensor([18.5604, 27.8849, 34.1937, 21.2038, 22.6129, 40.8669, 44.6024, 16.6119,\n         21.1768, 22.5391, 18.2769, 27.8488]))"
     },
     "execution_count": 8,
     "metadata": {},
     "output_type": "execute_result"
    }
   ],
   "source": [
    "evals[:10].mean(dim=0), evals[:10].std(dim=0)"
   ],
   "metadata": {
    "collapsed": false,
    "pycharm": {
     "name": "#%%\n"
    }
   }
  }
 ],
 "metadata": {
  "kernelspec": {
   "display_name": "Python 3",
   "language": "python",
   "name": "python3"
  },
  "language_info": {
   "codemirror_mode": {
    "name": "ipython",
    "version": 2
   },
   "file_extension": ".py",
   "mimetype": "text/x-python",
   "name": "python",
   "nbconvert_exporter": "python",
   "pygments_lexer": "ipython2",
   "version": "2.7.6"
  }
 },
 "nbformat": 4,
 "nbformat_minor": 0
}