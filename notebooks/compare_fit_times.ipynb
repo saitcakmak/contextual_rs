{
 "cells": [
  {
   "cell_type": "markdown",
   "metadata": {
    "collapsed": true,
    "pycharm": {
     "name": "#%% md\n"
    }
   },
   "source": [
    "In this notebook, we compare the time it takes to fit LCEGP with the time it takes to\n",
    "fit the UnknownCorrelationModel.\n",
    "\n",
    "- We want to see how the fit time changes as a function of number of alternatives\n",
    "- We want to compare both fitting the model from scratch and Bayesian updates\n",
    "with added data. For this, we can look into periodically re-training LCEGP\n",
    "hyper-parameters, and how that frequency affects the run times.\n",
    "\n",
    "Let's start by defining some utilities.\n",
    "\n",
    "# TODO: add runtime comparison with a KG run"
   ]
  },
  {
   "cell_type": "code",
   "execution_count": 1,
   "outputs": [],
   "source": [
    "import resource\n",
    "import time\n",
    "\n",
    "import torch\n",
    "from contextual_rs.models.custom_fit import custom_fit_gpytorch_model\n",
    "from gpytorch import ExactMarginalLogLikelihood\n",
    "from gpytorch.distributions import MultivariateNormal\n",
    "\n",
    "from contextual_rs.models.lce_gp import LCEGP\n",
    "from contextual_rs.models.unknown_correlation_model import UnknownCorrelationModel\n",
    "\n",
    "\n",
    "ckwargs = {\"dtype\": torch.double, \"device\": \"cpu\"}\n",
    "# TODO: consider CUDA as well\n",
    "\n",
    "\n",
    "def clock2():\n",
    "    \"\"\"\n",
    "    clock2() -> (t_user,t_system)\n",
    "    Return a tuple of user/system cpu times.\n",
    "    \"\"\"\n",
    "    return resource.getrusage(resource.RUSAGE_SELF)[:2]\n",
    "\n",
    "\n",
    "def model_constructor(model_type: str):\n",
    "    def model_create(X, Y, emb_dim):\n",
    "        if model_type == \"LCEGP\":\n",
    "            model = LCEGP(\n",
    "                X.view(-1, 1),\n",
    "                Y.view(-1, 1),\n",
    "                categorical_cols=[0],\n",
    "                embs_dim_list=[emb_dim],\n",
    "            )\n",
    "            mll = ExactMarginalLogLikelihood(model.likelihood, model)\n",
    "            custom_fit_gpytorch_model(mll)\n",
    "            return model\n",
    "        else:\n",
    "            model = UnknownCorrelationModel(X, Y, update_method=model_type)\n",
    "            return model\n",
    "\n",
    "    return model_create\n",
    "\n",
    "\n",
    "def get_sampling_mvn(\n",
    "    K: int,\n",
    "    rho: float,\n",
    ") -> MultivariateNormal:\n",
    "    true_mean = torch.linspace(0, 1, K, **ckwargs)\n",
    "    true_cov = torch.zeros(K, K, **ckwargs)\n",
    "    for i in range(K):\n",
    "        for j in range(K):\n",
    "            true_cov[i, j] = torch.tensor(rho, **ckwargs).pow(abs(i - j))\n",
    "    return MultivariateNormal(true_mean, true_cov)\n",
    "\n",
    "\n",
    "def fit_on_random_data(\n",
    "    num_alternatives: int,\n",
    "    num_train: int,\n",
    "    num_full_train: int,\n",
    "    model: str,\n",
    "    replications: int,\n",
    "    rho: float,\n",
    "    emb_dim: int = 1,\n",
    "):\n",
    "    r\"\"\"\n",
    "    Returns a tuple of averages of wall-time, user cpu-time, sys cpu-time, and total\n",
    "    cpu-time.\n",
    "    \"\"\"\n",
    "    wall_times = torch.zeros(replications, **ckwargs)\n",
    "    user_cts = torch.zeros(replications, **ckwargs)\n",
    "    sys_cts = torch.zeros(replications, **ckwargs)\n",
    "    for seed in range(replications):\n",
    "        torch.manual_seed(seed)\n",
    "        full_train = torch.arange(num_alternatives, **ckwargs).repeat(num_full_train)\n",
    "        rand_train = torch.randint(0, num_alternatives, (num_train,), **ckwargs)\n",
    "        train_X = torch.cat([full_train, rand_train])\n",
    "        mvn = get_sampling_mvn(num_alternatives, rho)\n",
    "        all_Y = mvn.rsample(torch.Size([num_full_train + num_train])).detach()\n",
    "        full_Y = all_Y[:num_full_train].view(-1)\n",
    "        rand_Y = all_Y[num_full_train:].gather(\n",
    "            dim=-1, index=rand_train.view(-1, 1).long()\n",
    "        ).view(-1)\n",
    "        train_Y = torch.cat([full_Y, rand_Y])\n",
    "        wt_start = time.time()\n",
    "        ct_start = clock2()\n",
    "        fitted_model = model_constructor(model)(train_X, train_Y, emb_dim)\n",
    "        ct_end = clock2()\n",
    "        wt_end = time.time()\n",
    "        wall_times[seed] = wt_end - wt_start\n",
    "        user_cts[seed] = ct_end[0] - ct_start[0]\n",
    "        sys_cts[seed] = ct_end[1] - ct_start[1]\n",
    "    return (\n",
    "        wall_times.mean(),\n",
    "        user_cts.mean(),\n",
    "        sys_cts.mean(),\n",
    "        user_cts.mean() + sys_cts.mean()\n",
    "    )"
   ],
   "metadata": {
    "collapsed": false,
    "pycharm": {
     "name": "#%%\n"
    }
   }
  },
  {
   "cell_type": "markdown",
   "source": [
    "We are ready to run the simplest experiments, that is the time it takes to fit the model\n",
    "from scratch."
   ],
   "metadata": {
    "collapsed": false,
    "pycharm": {
     "name": "#%% md\n"
    }
   }
  },
  {
   "cell_type": "code",
   "execution_count": 2,
   "outputs": [],
   "source": [
    "alternatives = [\n",
    "    (\"LCEGP\", 1), (\"LCEGP\", 2), (\"moment-matching\", 0), (\"KL\", 0), (\"moment-KL\", 0)\n",
    "]"
   ],
   "metadata": {
    "collapsed": false,
    "pycharm": {
     "name": "#%%\n"
    }
   }
  },
  {
   "cell_type": "code",
   "execution_count": 3,
   "outputs": [
    {
     "name": "stdout",
     "output_type": "stream",
     "text": [
      "Running model LCEGP, emb_dim 1:\n",
      "Wall time 0.15, user time 0.60, sys time 0.00, total cpu time 0.60\n",
      "Running model LCEGP, emb_dim 2:\n",
      "Wall time 0.21, user time 0.85, sys time 0.00, total cpu time 0.86\n",
      "Running model moment-matching, emb_dim 0:\n",
      "Wall time 0.00, user time 0.01, sys time 0.00, total cpu time 0.01\n",
      "Running model KL, emb_dim 0:\n",
      "Wall time 0.00, user time 0.01, sys time 0.00, total cpu time 0.01\n",
      "Running model moment-KL, emb_dim 0:\n",
      "Wall time 0.00, user time 0.01, sys time 0.00, total cpu time 0.01\n"
     ]
    }
   ],
   "source": [
    "kwargs = {\n",
    "    \"num_alternatives\": 5,\n",
    "    \"num_train\": 10,\n",
    "    \"num_full_train\": 2,\n",
    "    \"replications\": 30,\n",
    "    \"rho\": 0.5,\n",
    "}\n",
    "\n",
    "for model, emb_dim in alternatives:\n",
    "    print(f\"Running model {model}, emb_dim {emb_dim}:\")\n",
    "    wt, uct, sct, tct = fit_on_random_data(model=model, emb_dim=emb_dim, **kwargs)\n",
    "    print(\n",
    "        f\"Wall time {'{:.2f}'.format(float(wt))}, \"\n",
    "        f\"user time {'{:.2f}'.format(float(uct))}, \"\n",
    "        f\"sys time {'{:.2f}'.format(float(sct))}, \"\n",
    "        f\"total cpu time {'{:.2f}'.format(float(tct))}\"\n",
    "    )"
   ],
   "metadata": {
    "collapsed": false,
    "pycharm": {
     "name": "#%%\n"
    }
   }
  },
  {
   "cell_type": "code",
   "execution_count": 4,
   "outputs": [
    {
     "name": "stdout",
     "output_type": "stream",
     "text": [
      "Running model LCEGP, emb_dim 1:\n",
      "Wall time 0.13, user time 0.56, sys time 0.01, total cpu time 0.56\n",
      "Running model LCEGP, emb_dim 2:\n",
      "Wall time 0.18, user time 0.79, sys time 0.01, total cpu time 0.81\n",
      "Running model moment-matching, emb_dim 0:\n",
      "Wall time 0.01, user time 0.01, sys time 0.00, total cpu time 0.01\n",
      "Running model KL, emb_dim 0:\n",
      "Wall time 0.00, user time 0.01, sys time 0.00, total cpu time 0.01\n",
      "Running model moment-KL, emb_dim 0:\n",
      "Wall time 0.01, user time 0.01, sys time 0.00, total cpu time 0.01\n"
     ]
    }
   ],
   "source": [
    "kwargs = {\n",
    "    \"num_alternatives\": 5,\n",
    "    \"num_train\": 30,\n",
    "    \"num_full_train\": 4,\n",
    "    \"replications\": 30,\n",
    "    \"rho\": 0.5,\n",
    "}\n",
    "\n",
    "for model, emb_dim in alternatives:\n",
    "    print(f\"Running model {model}, emb_dim {emb_dim}:\")\n",
    "    wt, uct, sct, tct = fit_on_random_data(model=model, emb_dim=emb_dim, **kwargs)\n",
    "    print(\n",
    "        f\"Wall time {'{:.2f}'.format(float(wt))}, \"\n",
    "        f\"user time {'{:.2f}'.format(float(uct))}, \"\n",
    "        f\"sys time {'{:.2f}'.format(float(sct))}, \"\n",
    "        f\"total cpu time {'{:.2f}'.format(float(tct))}\"\n",
    "    )\n"
   ],
   "metadata": {
    "collapsed": false,
    "pycharm": {
     "name": "#%%\n"
    }
   }
  },
  {
   "cell_type": "code",
   "execution_count": 5,
   "outputs": [
    {
     "name": "stdout",
     "output_type": "stream",
     "text": [
      "Running model LCEGP, emb_dim 1:\n",
      "Wall time 0.22, user time 1.10, sys time 0.01, total cpu time 1.10\n",
      "Running model LCEGP, emb_dim 2:\n",
      "Wall time 0.49, user time 2.46, sys time 0.02, total cpu time 2.48\n",
      "Running model moment-matching, emb_dim 0:\n",
      "Wall time 0.01, user time 0.02, sys time 0.00, total cpu time 0.02\n",
      "Running model KL, emb_dim 0:\n",
      "Wall time 0.01, user time 0.02, sys time 0.00, total cpu time 0.02\n",
      "Running model moment-KL, emb_dim 0:\n",
      "Wall time 0.01, user time 0.02, sys time 0.00, total cpu time 0.02\n"
     ]
    }
   ],
   "source": [
    "kwargs = {\n",
    "    \"num_alternatives\": 5,\n",
    "    \"num_train\": 100,\n",
    "    \"num_full_train\": 10,\n",
    "    \"replications\": 30,\n",
    "    \"rho\": 0.5,\n",
    "}\n",
    "\n",
    "for model, emb_dim in alternatives:\n",
    "    print(f\"Running model {model}, emb_dim {emb_dim}:\")\n",
    "    wt, uct, sct, tct = fit_on_random_data(model=model, emb_dim=emb_dim, **kwargs)\n",
    "    print(\n",
    "        f\"Wall time {'{:.2f}'.format(float(wt))}, \"\n",
    "        f\"user time {'{:.2f}'.format(float(uct))}, \"\n",
    "        f\"sys time {'{:.2f}'.format(float(sct))}, \"\n",
    "        f\"total cpu time {'{:.2f}'.format(float(tct))}\"\n",
    "    )\n"
   ],
   "metadata": {
    "collapsed": false,
    "pycharm": {
     "name": "#%%\n"
    }
   }
  },
  {
   "cell_type": "code",
   "execution_count": 6,
   "outputs": [
    {
     "name": "stdout",
     "output_type": "stream",
     "text": [
      "Running model LCEGP, emb_dim 1:\n",
      "Wall time 2.00, user time 11.98, sys time 0.13, total cpu time 12.11\n",
      "Running model LCEGP, emb_dim 2:\n",
      "Wall time 3.94, user time 23.22, sys time 0.44, total cpu time 23.66\n",
      "Running model moment-matching, emb_dim 0:\n",
      "Wall time 0.03, user time 0.03, sys time 0.00, total cpu time 0.03\n",
      "Running model KL, emb_dim 0:\n",
      "Wall time 0.02, user time 0.03, sys time 0.00, total cpu time 0.03\n",
      "Running model moment-KL, emb_dim 0:\n",
      "Wall time 0.03, user time 0.03, sys time 0.00, total cpu time 0.03\n"
     ]
    }
   ],
   "source": [
    "kwargs = {\n",
    "    \"num_alternatives\": 5,\n",
    "    \"num_train\": 400,\n",
    "    \"num_full_train\": 40,\n",
    "    \"replications\": 30,\n",
    "    \"rho\": 0.5,\n",
    "}\n",
    "\n",
    "for model, emb_dim in alternatives:\n",
    "    print(f\"Running model {model}, emb_dim {emb_dim}:\")\n",
    "    wt, uct, sct, tct = fit_on_random_data(model=model, emb_dim=emb_dim, **kwargs)\n",
    "    print(\n",
    "        f\"Wall time {'{:.2f}'.format(float(wt))}, \"\n",
    "        f\"user time {'{:.2f}'.format(float(uct))}, \"\n",
    "        f\"sys time {'{:.2f}'.format(float(sct))}, \"\n",
    "        f\"total cpu time {'{:.2f}'.format(float(tct))}\"\n",
    "    )\n"
   ],
   "metadata": {
    "collapsed": false,
    "pycharm": {
     "name": "#%%\n"
    }
   }
  },
  {
   "cell_type": "code",
   "execution_count": 7,
   "outputs": [
    {
     "name": "stdout",
     "output_type": "stream",
     "text": [
      "Running model LCEGP, emb_dim 1:\n",
      "Wall time 2.59, user time 14.22, sys time 0.08, total cpu time 14.30\n",
      "Running model LCEGP, emb_dim 2:\n",
      "Wall time 4.13, user time 22.47, sys time 0.13, total cpu time 22.60\n",
      "Running model moment-matching, emb_dim 0:\n",
      "Wall time 0.03, user time 0.04, sys time 0.00, total cpu time 0.04\n",
      "Running model KL, emb_dim 0:\n",
      "Wall time 0.02, user time 0.03, sys time 0.00, total cpu time 0.03\n",
      "Running model moment-KL, emb_dim 0:\n",
      "Wall time 0.03, user time 0.04, sys time 0.00, total cpu time 0.04\n"
     ]
    }
   ],
   "source": [
    "kwargs = {\n",
    "    \"num_alternatives\": 20,\n",
    "    \"num_train\": 100,\n",
    "    \"num_full_train\": 5,\n",
    "    \"replications\": 30,\n",
    "    \"rho\": 0.5,\n",
    "}\n",
    "\n",
    "for model, emb_dim in alternatives:\n",
    "    print(f\"Running model {model}, emb_dim {emb_dim}:\")\n",
    "    wt, uct, sct, tct = fit_on_random_data(model=model, emb_dim=emb_dim, **kwargs)\n",
    "    print(\n",
    "        f\"Wall time {'{:.2f}'.format(float(wt))}, \"\n",
    "        f\"user time {'{:.2f}'.format(float(uct))}, \"\n",
    "        f\"sys time {'{:.2f}'.format(float(sct))}, \"\n",
    "        f\"total cpu time {'{:.2f}'.format(float(tct))}\"\n",
    "    )\n"
   ],
   "metadata": {
    "collapsed": false,
    "pycharm": {
     "name": "#%%\n"
    }
   }
  },
  {
   "cell_type": "code",
   "execution_count": 8,
   "outputs": [
    {
     "name": "stdout",
     "output_type": "stream",
     "text": [
      "Running model LCEGP, emb_dim 1:\n",
      "Wall time 19.48, user time 117.29, sys time 1.54, total cpu time 118.83\n",
      "Running model LCEGP, emb_dim 2:\n",
      "Wall time 24.27, user time 146.79, sys time 1.16, total cpu time 147.95\n",
      "Running model moment-matching, emb_dim 0:\n",
      "Wall time 0.07, user time 0.08, sys time 0.00, total cpu time 0.08\n",
      "Running model KL, emb_dim 0:\n",
      "Wall time 0.04, user time 0.05, sys time 0.00, total cpu time 0.05\n",
      "Running model moment-KL, emb_dim 0:\n",
      "Wall time 0.07, user time 0.08, sys time 0.00, total cpu time 0.08\n"
     ]
    }
   ],
   "source": [
    "kwargs = {\n",
    "    \"num_alternatives\": 20,\n",
    "    \"num_train\": 500,\n",
    "    \"num_full_train\": 10,\n",
    "    \"replications\": 30,\n",
    "    \"rho\": 0.5,\n",
    "}\n",
    "\n",
    "for model, emb_dim in alternatives:\n",
    "    print(f\"Running model {model}, emb_dim {emb_dim}:\")\n",
    "    wt, uct, sct, tct = fit_on_random_data(model=model, emb_dim=emb_dim, **kwargs)\n",
    "    print(\n",
    "        f\"Wall time {'{:.2f}'.format(float(wt))}, \"\n",
    "        f\"user time {'{:.2f}'.format(float(uct))}, \"\n",
    "        f\"sys time {'{:.2f}'.format(float(sct))}, \"\n",
    "        f\"total cpu time {'{:.2f}'.format(float(tct))}\"\n",
    "    )"
   ],
   "metadata": {
    "collapsed": false,
    "pycharm": {
     "name": "#%%\n"
    }
   }
  },
  {
   "cell_type": "code",
   "execution_count": 9,
   "outputs": [
    {
     "name": "stdout",
     "output_type": "stream",
     "text": [
      "Running model LCEGP, emb_dim 1:\n",
      "Wall time 14.42, user time 86.68, sys time 0.59, total cpu time 87.26\n",
      "Running model LCEGP, emb_dim 2:\n",
      "Wall time 15.33, user time 91.71, sys time 0.59, total cpu time 92.30\n",
      "Running model moment-matching, emb_dim 0:\n",
      "Wall time 0.05, user time 0.06, sys time 0.00, total cpu time 0.06\n",
      "Running model KL, emb_dim 0:\n",
      "Wall time 0.03, user time 0.04, sys time 0.00, total cpu time 0.04\n",
      "Running model moment-KL, emb_dim 0:\n",
      "Wall time 0.04, user time 0.05, sys time 0.00, total cpu time 0.05\n"
     ]
    }
   ],
   "source": [
    "kwargs = {\n",
    "    \"num_alternatives\": 50,\n",
    "    \"num_train\": 100,\n",
    "    \"num_full_train\": 5,\n",
    "    \"replications\": 30,\n",
    "    \"rho\": 0.5,\n",
    "}\n",
    "\n",
    "for model, emb_dim in alternatives:\n",
    "    print(f\"Running model {model}, emb_dim {emb_dim}:\")\n",
    "    wt, uct, sct, tct = fit_on_random_data(model=model, emb_dim=emb_dim, **kwargs)\n",
    "    print(\n",
    "        f\"Wall time {'{:.2f}'.format(float(wt))}, \"\n",
    "        f\"user time {'{:.2f}'.format(float(uct))}, \"\n",
    "        f\"sys time {'{:.2f}'.format(float(sct))}, \"\n",
    "        f\"total cpu time {'{:.2f}'.format(float(tct))}\"\n",
    "    )"
   ],
   "metadata": {
    "collapsed": false,
    "pycharm": {
     "name": "#%%\n"
    }
   }
  },
  {
   "cell_type": "code",
   "execution_count": 10,
   "outputs": [
    {
     "name": "stdout",
     "output_type": "stream",
     "text": [
      "Running model LCEGP, emb_dim 1:\n",
      "Wall time 104.55, user time 639.93, sys time 2.67, total cpu time 642.60\n",
      "Running model LCEGP, emb_dim 2:\n",
      "Wall time 79.06, user time 482.45, sys time 3.97, total cpu time 486.42\n",
      "Running model moment-matching, emb_dim 0:\n",
      "Wall time 0.14, user time 0.15, sys time 0.00, total cpu time 0.15\n",
      "Running model KL, emb_dim 0:\n",
      "Wall time 0.07, user time 0.08, sys time 0.00, total cpu time 0.08\n",
      "Running model moment-KL, emb_dim 0:\n",
      "Wall time 0.13, user time 0.14, sys time 0.00, total cpu time 0.14\n"
     ]
    }
   ],
   "source": [
    "kwargs = {\n",
    "    \"num_alternatives\": 50,\n",
    "    \"num_train\": 500,\n",
    "    \"num_full_train\": 10,\n",
    "    \"replications\": 30,\n",
    "    \"rho\": 0.5,\n",
    "}\n",
    "\n",
    "for model, emb_dim in alternatives:\n",
    "    print(f\"Running model {model}, emb_dim {emb_dim}:\")\n",
    "    wt, uct, sct, tct = fit_on_random_data(model=model, emb_dim=emb_dim, **kwargs)\n",
    "    print(\n",
    "        f\"Wall time {'{:.2f}'.format(float(wt))}, \"\n",
    "        f\"user time {'{:.2f}'.format(float(uct))}, \"\n",
    "        f\"sys time {'{:.2f}'.format(float(sct))}, \"\n",
    "        f\"total cpu time {'{:.2f}'.format(float(tct))}\"\n",
    "    )\n"
   ],
   "metadata": {
    "collapsed": false,
    "pycharm": {
     "name": "#%%\n"
    }
   }
  },
  {
   "cell_type": "code",
   "execution_count": 4,
   "outputs": [],
   "source": [
    "ckwargs = {\"dtype\": torch.double, \"device\": \"cuda\"}"
   ],
   "metadata": {
    "collapsed": false,
    "pycharm": {
     "name": "#%%\n"
    }
   }
  },
  {
   "cell_type": "code",
   "execution_count": 5,
   "outputs": [
    {
     "name": "stdout",
     "output_type": "stream",
     "text": [
      "Running model LCEGP, emb_dim 1:\n",
      "Wall time 1.45, user time 2.18, sys time 0.10, total cpu time 2.28\n",
      "Running model LCEGP, emb_dim 2:\n",
      "Wall time 1.43, user time 2.18, sys time 0.09, total cpu time 2.27\n",
      "Running model moment-matching, emb_dim 0:\n",
      "Wall time 0.39, user time 0.39, sys time 0.00, total cpu time 0.39\n",
      "Running model KL, emb_dim 0:\n",
      "Wall time 0.18, user time 0.17, sys time 0.00, total cpu time 0.17\n",
      "Running model moment-KL, emb_dim 0:\n",
      "Wall time 0.36, user time 0.36, sys time 0.00, total cpu time 0.36\n"
     ]
    }
   ],
   "source": [
    "kwargs = {\n",
    "    \"num_alternatives\": 50,\n",
    "    \"num_train\": 500,\n",
    "    \"num_full_train\": 10,\n",
    "    \"replications\": 30,\n",
    "    \"rho\": 0.5,\n",
    "}\n",
    "\n",
    "for model, emb_dim in alternatives:\n",
    "    print(f\"Running model {model}, emb_dim {emb_dim}:\")\n",
    "    wt, uct, sct, tct = fit_on_random_data(model=model, emb_dim=emb_dim, **kwargs)\n",
    "    print(\n",
    "        f\"Wall time {'{:.2f}'.format(float(wt))}, \"\n",
    "        f\"user time {'{:.2f}'.format(float(uct))}, \"\n",
    "        f\"sys time {'{:.2f}'.format(float(sct))}, \"\n",
    "        f\"total cpu time {'{:.2f}'.format(float(tct))}\"\n",
    "    )"
   ],
   "metadata": {
    "collapsed": false,
    "pycharm": {
     "name": "#%%\n"
    }
   }
  },
  {
   "cell_type": "code",
   "execution_count": 6,
   "outputs": [
    {
     "name": "stdout",
     "output_type": "stream",
     "text": [
      "Running model LCEGP, emb_dim 1:\n",
      "Wall time 22.42, user time 25.36, sys time 0.25, total cpu time 25.61\n",
      "Running model LCEGP, emb_dim 2:\n",
      "Wall time 17.21, user time 19.46, sys time 0.19, total cpu time 19.65\n",
      "Running model moment-matching, emb_dim 0:\n",
      "Wall time 0.62, user time 0.64, sys time 0.00, total cpu time 0.64\n",
      "Running model KL, emb_dim 0:\n",
      "Wall time 0.30, user time 0.31, sys time 0.00, total cpu time 0.31\n",
      "Running model moment-KL, emb_dim 0:\n",
      "Wall time 0.57, user time 0.58, sys time 0.00, total cpu time 0.58\n"
     ]
    }
   ],
   "source": [
    "kwargs = {\n",
    "    \"num_alternatives\": 200,\n",
    "    \"num_train\": 500,\n",
    "    \"num_full_train\": 10,\n",
    "    \"replications\": 30,\n",
    "    \"rho\": 0.5,\n",
    "}\n",
    "\n",
    "for model, emb_dim in alternatives:\n",
    "    print(f\"Running model {model}, emb_dim {emb_dim}:\")\n",
    "    wt, uct, sct, tct = fit_on_random_data(model=model, emb_dim=emb_dim, **kwargs)\n",
    "    print(\n",
    "        f\"Wall time {'{:.2f}'.format(float(wt))}, \"\n",
    "        f\"user time {'{:.2f}'.format(float(uct))}, \"\n",
    "        f\"sys time {'{:.2f}'.format(float(sct))}, \"\n",
    "        f\"total cpu time {'{:.2f}'.format(float(tct))}\"\n",
    "    )"
   ],
   "metadata": {
    "collapsed": false,
    "pycharm": {
     "name": "#%%\n"
    }
   }
  }
 ],
 "metadata": {
  "kernelspec": {
   "display_name": "Python 3",
   "language": "python",
   "name": "python3"
  },
  "language_info": {
   "codemirror_mode": {
    "name": "ipython",
    "version": 2
   },
   "file_extension": ".py",
   "mimetype": "text/x-python",
   "name": "python",
   "nbconvert_exporter": "python",
   "pygments_lexer": "ipython2",
   "version": "2.7.6"
  }
 },
 "nbformat": 4,
 "nbformat_minor": 0
}