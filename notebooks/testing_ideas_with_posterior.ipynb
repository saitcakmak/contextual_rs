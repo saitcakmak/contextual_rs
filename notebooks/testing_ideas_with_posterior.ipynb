{
 "cells": [
  {
   "cell_type": "markdown",
   "metadata": {
    "collapsed": true,
    "pycharm": {
     "name": "#%% md\n"
    }
   },
   "source": [
    "This is for testing out some things regarding the posterior distribution before diving\n",
    "deep into the theory."
   ]
  },
  {
   "cell_type": "code",
   "execution_count": 1,
   "outputs": [],
   "source": [
    "import torch\n",
    "from botorch import fit_gpytorch_model\n",
    "from botorch.models import SingleTaskGP\n",
    "from botorch.models.transforms import Standardize\n",
    "from gpytorch import ExactMarginalLogLikelihood"
   ],
   "metadata": {
    "collapsed": false,
    "pycharm": {
     "name": "#%%\n"
    }
   }
  },
  {
   "cell_type": "code",
   "execution_count": 2,
   "outputs": [],
   "source": [
    "train_X = torch.linspace(0, 1, 4).view(-1, 1)\n",
    "train_Y = torch.randn(4, 1)\n",
    "model = SingleTaskGP(\n",
    "    train_X, train_Y, outcome_transform=Standardize(m=1)\n",
    ")\n",
    "mll = ExactMarginalLogLikelihood(model.likelihood, model)\n",
    "_ = fit_gpytorch_model(mll)"
   ],
   "metadata": {
    "collapsed": false,
    "pycharm": {
     "name": "#%%\n"
    }
   }
  },
  {
   "cell_type": "code",
   "execution_count": 3,
   "outputs": [
    {
     "name": "stderr",
     "output_type": "stream",
     "text": [
      "/home/saitcakmak/anaconda3/envs/contextual_rs/lib/python3.8/site-packages/gpytorch/models/exact_gp.py:273: GPInputWarning: The input matches the stored training data. Did you forget to call model.train()?\n",
      "  warnings.warn(\n"
     ]
    }
   ],
   "source": [
    "sigma_0 = model.forward(train_X).covariance_matrix\n",
    "sigma_1 = model(train_X).covariance_matrix\n",
    "\n",
    "m2 = model.condition_on_observations(train_X[:1], train_Y[:1])\n",
    "sigma_2 = m2(train_X).covariance_matrix\n",
    "sigma_2_0 = m2.forward(train_X).covariance_matrix"
   ],
   "metadata": {
    "collapsed": false,
    "pycharm": {
     "name": "#%%\n"
    }
   }
  },
  {
   "cell_type": "code",
   "execution_count": 4,
   "outputs": [
    {
     "name": "stdout",
     "output_type": "stream",
     "text": [
      "Prior: tensor([[1.7682, 1.1499, 0.4485, 0.1379],\n",
      "        [1.1499, 1.7682, 1.1499, 0.4485],\n",
      "        [0.4485, 1.1499, 1.7682, 1.1499],\n",
      "        [0.1379, 0.4485, 1.1499, 1.7682]], grad_fn=<MulBackward0>)\n",
      "Posterior: tensor([[ 0.0623,  0.0034, -0.0013,  0.0003],\n",
      "        [ 0.0034,  0.0596,  0.0043, -0.0013],\n",
      "        [-0.0013,  0.0043,  0.0596,  0.0034],\n",
      "        [ 0.0003, -0.0013,  0.0034,  0.0623]], grad_fn=<AddmmBackward>)\n",
      "Posterior n+1: tensor([[ 0.0322,  0.0017, -0.0006,  0.0001],\n",
      "        [ 0.0017,  0.0595,  0.0043, -0.0013],\n",
      "        [-0.0006,  0.0043,  0.0596,  0.0034],\n",
      "        [ 0.0001, -0.0013,  0.0034,  0.0623]], grad_fn=<AddmmBackward>)\n",
      "Prior n+1: tensor([[1.7682, 1.1499, 0.4485, 0.1379],\n",
      "        [1.1499, 1.7682, 1.1499, 0.4485],\n",
      "        [0.4485, 1.1499, 1.7682, 1.1499],\n",
      "        [0.1379, 0.4485, 1.1499, 1.7682]], grad_fn=<MulBackward0>)\n"
     ]
    }
   ],
   "source": [
    "print(f\"Prior: {sigma_0}\")\n",
    "print(f\"Posterior: {sigma_1}\")\n",
    "print(f\"Posterior n+1: {sigma_2}\")\n",
    "print(f\"Prior n+1: {sigma_2_0}\")"
   ],
   "metadata": {
    "collapsed": false,
    "pycharm": {
     "name": "#%%\n"
    }
   }
  },
  {
   "cell_type": "code",
   "execution_count": 5,
   "outputs": [
    {
     "name": "stdout",
     "output_type": "stream",
     "text": [
      "prior rho: 0.6503499746322632\n",
      "post rho: 0.055445101112127304\n",
      "n+1 rho: 0.0398750826716423\n"
     ]
    }
   ],
   "source": [
    "def get_rho(i, j, covar):\n",
    "    rho_sq = covar[i, j].pow(2) / (covar[i, i] * covar[j, j])\n",
    "    return rho_sq.sqrt()\n",
    "\n",
    "print(f\"prior rho: {get_rho(0, 1, sigma_0)}\")\n",
    "print(f\"post rho: {get_rho(0, 1, sigma_1)}\")\n",
    "print(f\"n+1 rho: {get_rho(0, 1, sigma_2)}\")"
   ],
   "metadata": {
    "collapsed": false,
    "pycharm": {
     "name": "#%%\n"
    }
   }
  }
 ],
 "metadata": {
  "kernelspec": {
   "display_name": "Python 3",
   "language": "python",
   "name": "python3"
  },
  "language_info": {
   "codemirror_mode": {
    "name": "ipython",
    "version": 2
   },
   "file_extension": ".py",
   "mimetype": "text/x-python",
   "name": "python",
   "nbconvert_exporter": "python",
   "pygments_lexer": "ipython2",
   "version": "2.7.6"
  }
 },
 "nbformat": 4,
 "nbformat_minor": 0
}