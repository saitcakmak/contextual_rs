{
 "cells": [
  {
   "cell_type": "markdown",
   "metadata": {
    "collapsed": true,
    "pycharm": {
     "name": "#%% md\n"
    }
   },
   "source": [
    "Part of this project focuses on the classical R&S setting where the solution space is\n",
    "discrete. In discrete spaces, we have repeat observations from the same design point,\n",
    "which leads to the covariance matrix `K(X, X)` becoming singular. We need the Cholesky\n",
    "factor of the covariance matrix for MLE, which doesn't exist for singular matrices.\n",
    "\n",
    "The idea we want to explore here is whether we can decompose observations into parts\n",
    "in a consistent manner. My intuition says that the resulting likelihood will depend on\n",
    "the ordering of the samples, which is very much not desirable. Let's see if this is\n",
    "true.\n",
    "\n",
    "# Singularity is a numerical issue! Use double!"
   ]
  },
  {
   "cell_type": "code",
   "execution_count": 9,
   "outputs": [],
   "source": [
    "import torch\n",
    "from gpytorch.kernels import MaternKernel\n",
    "from torch.distributions import MultivariateNormal\n",
    "\n",
    "base_kernel = MaternKernel()\n",
    "\n",
    "alternatives = torch.tensor(range(3), dtype=torch.float).view(-1, 1)\n",
    "\n",
    "full_kernel = base_kernel(alternatives).evaluate_kernel().evaluate()"
   ],
   "metadata": {
    "collapsed": false,
    "pycharm": {
     "name": "#%%\n"
    }
   }
  },
  {
   "cell_type": "code",
   "execution_count": 2,
   "outputs": [
    {
     "data": {
      "text/plain": "tensor([[1.0000, 0.3056, 0.0336],\n        [0.3056, 1.0000, 0.3056],\n        [0.0336, 0.3056, 1.0000]], grad_fn=<MaternCovarianceBackward>)"
     },
     "execution_count": 2,
     "metadata": {},
     "output_type": "execute_result"
    }
   ],
   "source": [
    "full_kernel"
   ],
   "metadata": {
    "collapsed": false,
    "pycharm": {
     "name": "#%%\n"
    }
   }
  },
  {
   "cell_type": "markdown",
   "source": [
    "Now suppose that we have 2, 3, 4 observations from each alternative respectively."
   ],
   "metadata": {
    "collapsed": false,
    "pycharm": {
     "name": "#%% md\n"
    }
   }
  },
  {
   "cell_type": "code",
   "execution_count": 3,
   "outputs": [
    {
     "name": "stdout",
     "output_type": "stream",
     "text": [
      "Full kernel: tensor([[1.0000, 1.0000, 0.3056, 0.3056, 0.3056, 0.0336, 0.0336, 0.0336, 0.0336],\n",
      "        [1.0000, 1.0000, 0.3056, 0.3056, 0.3056, 0.0336, 0.0336, 0.0336, 0.0336],\n",
      "        [0.3056, 0.3056, 1.0000, 1.0000, 1.0000, 0.3056, 0.3056, 0.3056, 0.3056],\n",
      "        [0.3056, 0.3056, 1.0000, 1.0000, 1.0000, 0.3056, 0.3056, 0.3056, 0.3056],\n",
      "        [0.3056, 0.3056, 1.0000, 1.0000, 1.0000, 0.3056, 0.3056, 0.3056, 0.3056],\n",
      "        [0.0336, 0.0336, 0.3056, 0.3056, 0.3056, 1.0000, 1.0000, 1.0000, 1.0000],\n",
      "        [0.0336, 0.0336, 0.3056, 0.3056, 0.3056, 1.0000, 1.0000, 1.0000, 1.0000],\n",
      "        [0.0336, 0.0336, 0.3056, 0.3056, 0.3056, 1.0000, 1.0000, 1.0000, 1.0000],\n",
      "        [0.0336, 0.0336, 0.3056, 0.3056, 0.3056, 1.0000, 1.0000, 1.0000, 1.0000]],\n",
      "       grad_fn=<MaternCovarianceBackward>)\n",
      "Cholesky?: Singular matrix!\n"
     ]
    }
   ],
   "source": [
    "indices = torch.tensor([0, 0, 1, 1, 1, 2, 2, 2, 2])\n",
    "X = alternatives[indices].view(-1, 1)\n",
    "kernel = base_kernel(X)\n",
    "kernel_eval = kernel.evaluate_kernel().evaluate()\n",
    "\n",
    "print(f\"Full kernel: {kernel_eval}\")\n",
    "\n",
    "try:\n",
    "    chol = kernel_eval.cholesky()\n",
    "except RuntimeError:\n",
    "    chol = 'Singular matrix!'\n",
    "print(f\"Cholesky?: {chol}\")"
   ],
   "metadata": {
    "collapsed": false,
    "pycharm": {
     "name": "#%%\n"
    }
   }
  },
  {
   "cell_type": "markdown",
   "source": [
    "How about adding some noise to the covariance matrix?"
   ],
   "metadata": {
    "collapsed": false,
    "pycharm": {
     "name": "#%% md\n"
    }
   }
  },
  {
   "cell_type": "code",
   "execution_count": 32,
   "outputs": [
    {
     "name": "stdout",
     "output_type": "stream",
     "text": [
      "Noisy kernel: tensor([[1.0100, 1.0000, 0.3056, 0.3056, 0.3056, 0.0336, 0.0336, 0.0336, 0.0336],\n",
      "        [1.0000, 1.0100, 0.3056, 0.3056, 0.3056, 0.0336, 0.0336, 0.0336, 0.0336],\n",
      "        [0.3056, 0.3056, 1.0100, 1.0000, 1.0000, 0.3056, 0.3056, 0.3056, 0.3056],\n",
      "        [0.3056, 0.3056, 1.0000, 1.0100, 1.0000, 0.3056, 0.3056, 0.3056, 0.3056],\n",
      "        [0.3056, 0.3056, 1.0000, 1.0000, 1.0100, 0.3056, 0.3056, 0.3056, 0.3056],\n",
      "        [0.0336, 0.0336, 0.3056, 0.3056, 0.3056, 1.0100, 1.0000, 1.0000, 1.0000],\n",
      "        [0.0336, 0.0336, 0.3056, 0.3056, 0.3056, 1.0000, 1.0100, 1.0000, 1.0000],\n",
      "        [0.0336, 0.0336, 0.3056, 0.3056, 0.3056, 1.0000, 1.0000, 1.0100, 1.0000],\n",
      "        [0.0336, 0.0336, 0.3056, 0.3056, 0.3056, 1.0000, 1.0000, 1.0000, 1.0100]],\n",
      "       grad_fn=<AddBackward0>)\n",
      "Cholesky?: tensor([[1.0050, 0.0000, 0.0000, 0.0000, 0.0000, 0.0000, 0.0000, 0.0000, 0.0000],\n",
      "        [0.9950, 0.1411, 0.0000, 0.0000, 0.0000, 0.0000, 0.0000, 0.0000, 0.0000],\n",
      "        [0.3041, 0.0215, 0.9576, 0.0000, 0.0000, 0.0000, 0.0000, 0.0000, 0.0000],\n",
      "        [0.3041, 0.0215, 0.9472, 0.1410, 0.0000, 0.0000, 0.0000, 0.0000, 0.0000],\n",
      "        [0.3041, 0.0215, 0.9472, 0.0701, 0.1224, 0.0000, 0.0000, 0.0000, 0.0000],\n",
      "        [0.0335, 0.0024, 0.3085, 0.0228, 0.0132, 0.9555, 0.0000, 0.0000, 0.0000],\n",
      "        [0.0335, 0.0024, 0.3085, 0.0228, 0.0132, 0.9451, 0.1410, 0.0000, 0.0000],\n",
      "        [0.0335, 0.0024, 0.3085, 0.0228, 0.0132, 0.9451, 0.0701, 0.1224, 0.0000],\n",
      "        [0.0335, 0.0024, 0.3085, 0.0228, 0.0132, 0.9451, 0.0701, 0.0406, 0.1154]],\n",
      "       grad_fn=<CholeskyBackward>)\n"
     ]
    }
   ],
   "source": [
    "noisy_kernel = kernel_eval + torch.eye(9) * 0.01\n",
    "\n",
    "print(f\"Noisy kernel: {noisy_kernel}\")\n",
    "\n",
    "try:\n",
    "    chol = noisy_kernel.cholesky()\n",
    "except RuntimeError:\n",
    "    chol = 'Singular matrix!'\n",
    "print(f\"Cholesky?: {chol}\")\n"
   ],
   "metadata": {
    "collapsed": false,
    "pycharm": {
     "name": "#%%\n"
    }
   }
  },
  {
   "cell_type": "markdown",
   "source": [
    "What if we instead grouped the observations so that each group only includes a given\n",
    "alternative only once. The resulting groups are [0, 1, 2], [0, 1, 2], [1, 2] and [2].\n",
    "\n",
    "We can now obtain the Cholesky factor for each group as follows."
   ],
   "metadata": {
    "collapsed": false,
    "pycharm": {
     "name": "#%% md\n"
    }
   }
  },
  {
   "cell_type": "code",
   "execution_count": 6,
   "outputs": [],
   "source": [
    "kernel_g1 = full_kernel\n",
    "kernel_g2 = full_kernel\n",
    "kernel_g3 = full_kernel[[1, 2]][:, [1, 2]]\n",
    "kernel_g4 = full_kernel[2, 2].view(1, 1)\n",
    "\n",
    "chol_g1 = full_kernel.cholesky()\n",
    "chol_g2 = full_kernel.cholesky()\n",
    "chol_g3 = full_kernel.cholesky()\n",
    "chol_g4 = full_kernel.cholesky()"
   ],
   "metadata": {
    "collapsed": false,
    "pycharm": {
     "name": "#%%\n"
    }
   }
  },
  {
   "cell_type": "markdown",
   "source": [
    "With this grouping, we could calculate the log-likelihood as the sum of log-likelihoods\n",
    " of each group.\n",
    "\n",
    "Let's see with a simple MVN if the sum of log-probabilities of MVN samples depend on\n",
    "the ordering of the observations."
   ],
   "metadata": {
    "collapsed": false,
    "pycharm": {
     "name": "#%% md\n"
    }
   }
  },
  {
   "cell_type": "code",
   "execution_count": 26,
   "outputs": [],
   "source": [
    "mean = torch.tensor([0., 0.5, 1.0])\n",
    "covar = torch.tensor([\n",
    "    [1.0, 0.5, 0.25], [0.5, 1.0, 0.5], [0.25, 0.5, 1.0]\n",
    "])\n",
    "sample_mvn = MultivariateNormal(mean, covar)\n",
    "\n",
    "samples = sample_mvn.rsample(torch.Size([4]))"
   ],
   "metadata": {
    "collapsed": false,
    "pycharm": {
     "name": "#%%\n"
    }
   }
  },
  {
   "cell_type": "code",
   "execution_count": 27,
   "outputs": [
    {
     "name": "stdout",
     "output_type": "stream",
     "text": [
      "likelihoods: tensor([-2.9397, -3.3755, -5.2740, -2.9170]), total: -14.506156921386719\n"
     ]
    }
   ],
   "source": [
    "lls = sample_mvn.log_prob(samples)\n",
    "print(f\"likelihoods: {lls}, total: {lls.sum()}\")"
   ],
   "metadata": {
    "collapsed": false,
    "pycharm": {
     "name": "#%%\n"
    }
   }
  },
  {
   "cell_type": "markdown",
   "source": [
    "Shuffle the samples"
   ],
   "metadata": {
    "collapsed": false,
    "pycharm": {
     "name": "#%% md\n"
    }
   }
  },
  {
   "cell_type": "code",
   "execution_count": 28,
   "outputs": [],
   "source": [
    "samples_copy = samples.clone()\n",
    "\n",
    "samples_copy[0, 0], samples_copy[2, 0] = samples[2, 0], samples[0, 0]\n",
    "samples_copy[1, 1], samples_copy[3, 1] = samples[3, 1], samples[1, 1]\n",
    "samples_copy[1, 2], samples_copy[2, 2] = samples[2, 2], samples[1, 2]"
   ],
   "metadata": {
    "collapsed": false,
    "pycharm": {
     "name": "#%%\n"
    }
   }
  },
  {
   "cell_type": "code",
   "execution_count": 29,
   "outputs": [
    {
     "name": "stdout",
     "output_type": "stream",
     "text": [
      "likelihoods: tensor([-4.7268, -3.5360, -3.6799, -2.9201]), total: -14.862839698791504\n"
     ]
    }
   ],
   "source": [
    "lls = sample_mvn.log_prob(samples_copy)\n",
    "\n",
    "print(f\"likelihoods: {lls}, total: {lls.sum()}\")\n"
   ],
   "metadata": {
    "collapsed": false,
    "pycharm": {
     "name": "#%%\n"
    }
   }
  },
  {
   "cell_type": "code",
   "execution_count": 30,
   "outputs": [
    {
     "data": {
      "text/plain": "tensor([[-0.4147, -0.1913,  1.2397],\n        [-0.7561,  0.2859,  1.8437],\n        [ 1.2930, -0.2089,  1.7020],\n        [-0.8997, -0.1768,  0.7761]])"
     },
     "execution_count": 30,
     "metadata": {},
     "output_type": "execute_result"
    }
   ],
   "source": [
    "samples"
   ],
   "metadata": {
    "collapsed": false,
    "pycharm": {
     "name": "#%%\n"
    }
   }
  },
  {
   "cell_type": "code",
   "execution_count": 31,
   "outputs": [
    {
     "data": {
      "text/plain": "tensor([[ 1.2930, -0.1913,  1.2397],\n        [-0.7561, -0.1768,  1.7020],\n        [-0.4147, -0.2089,  1.8437],\n        [-0.8997,  0.2859,  0.7761]])"
     },
     "execution_count": 31,
     "metadata": {},
     "output_type": "execute_result"
    }
   ],
   "source": [
    "samples_copy"
   ],
   "metadata": {
    "collapsed": false,
    "pycharm": {
     "name": "#%%\n"
    }
   }
  }
 ],
 "metadata": {
  "kernelspec": {
   "display_name": "Python 3",
   "language": "python",
   "name": "python3"
  },
  "language_info": {
   "codemirror_mode": {
    "name": "ipython",
    "version": 2
   },
   "file_extension": ".py",
   "mimetype": "text/x-python",
   "name": "python",
   "nbconvert_exporter": "python",
   "pygments_lexer": "ipython2",
   "version": "2.7.6"
  }
 },
 "nbformat": 4,
 "nbformat_minor": 0
}