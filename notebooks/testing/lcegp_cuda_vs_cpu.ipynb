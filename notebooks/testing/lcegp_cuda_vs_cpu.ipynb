{
 "cells": [
  {
   "cell_type": "markdown",
   "metadata": {
    "collapsed": true,
    "pycharm": {
     "name": "#%% md\n"
    }
   },
   "source": [
    "This notebook is for a simple test to see whether LCEGP is faster on cuda or cpu.\n",
    "\n",
    "There's some strange behavior going on with cuda. With fewer alternatives, it is slow.\n",
    "But when we increase the number of alternatives, it gets faster."
   ]
  },
  {
   "cell_type": "code",
   "execution_count": 7,
   "outputs": [],
   "source": [
    "import torch\n",
    "from gpytorch import ExactMarginalLogLikelihood\n",
    "from torch.distributions import MultivariateNormal\n",
    "from contextual_rs.custom_fit import custom_fit_gpytorch_model\n",
    "from contextual_rs.lce_gp import LCEGP\n",
    "\n",
    "\n",
    "def main_run(\n",
    "    num_alternatives: int,\n",
    "    num_iterations: int,\n",
    "    num_train: int,\n",
    "    device: str,\n",
    "    rho: float = 0.5,\n",
    ") -> None:\n",
    "    ckwargs = {\"device\": device}\n",
    "    K = num_alternatives\n",
    "    true_mean = torch.linspace(0, 1, K, **ckwargs)\n",
    "    true_cov = torch.zeros(K, K, **ckwargs)\n",
    "    for i in range(K):\n",
    "        for j in range(K):\n",
    "            true_cov[i, j] = torch.tensor(rho, **ckwargs).pow(abs(i - j))\n",
    "    sampling_post = MultivariateNormal(true_mean, true_cov)\n",
    "\n",
    "    all_Ys = sampling_post.rsample(\n",
    "        torch.Size([num_train + num_iterations])\n",
    "    ).detach()\n",
    "    train_X = torch.tensor(\n",
    "        range(num_alternatives), dtype=torch.float, **ckwargs\n",
    "    ).repeat(num_train).view(-1, 1)\n",
    "    train_Y = all_Ys[:num_train].view(-1, 1)\n",
    "\n",
    "    random_X = torch.randint(0, num_alternatives, (num_iterations,1), **ckwargs)\n",
    "    random_Y = all_Ys[num_train:].gather(\n",
    "        dim=-1, index=random_X\n",
    "    )\n",
    "\n",
    "    for i in range(num_iterations):\n",
    "        model = LCEGP(\n",
    "            train_X, train_Y, [0]\n",
    "        )\n",
    "        mll = ExactMarginalLogLikelihood(model.likelihood, model)\n",
    "        custom_fit_gpytorch_model(mll)\n",
    "\n",
    "        train_X = torch.cat([train_X, random_X[i].view(-1, 1)], dim=0)\n",
    "        train_Y = torch.cat([train_Y, random_Y[i].view(-1, 1)], dim=0)\n"
   ],
   "metadata": {
    "collapsed": false,
    "pycharm": {
     "name": "#%%\n"
    }
   }
  },
  {
   "cell_type": "markdown",
   "source": [
    "Timing results below. Each cell runs the same setting, first on cpu, then on cuda."
   ],
   "metadata": {
    "collapsed": false,
    "pycharm": {
     "name": "#%% md\n"
    }
   }
  },
  {
   "cell_type": "code",
   "execution_count": 12,
   "outputs": [
    {
     "name": "stdout",
     "output_type": "stream",
     "text": [
      "3.35 s ± 836 ms per loop (mean ± std. dev. of 7 runs, 1 loop each)\n",
      "11.5 s ± 1.61 s per loop (mean ± std. dev. of 7 runs, 1 loop each)\n"
     ]
    }
   ],
   "source": [
    "%timeit main_run(5, 20, 3, \"cpu\")\n",
    "%timeit main_run(5, 20, 3, \"cuda\")"
   ],
   "metadata": {
    "collapsed": false,
    "pycharm": {
     "name": "#%%\n"
    }
   }
  },
  {
   "cell_type": "code",
   "execution_count": 13,
   "outputs": [
    {
     "name": "stdout",
     "output_type": "stream",
     "text": [
      "27.2 s ± 4.87 s per loop (mean ± std. dev. of 7 runs, 1 loop each)\n",
      "38.9 s ± 2.95 s per loop (mean ± std. dev. of 7 runs, 1 loop each)\n"
     ]
    }
   ],
   "source": [
    "%timeit main_run(10, 50, 10, \"cpu\")\n",
    "%timeit main_run(10, 50, 10, \"cuda\")\n"
   ],
   "metadata": {
    "collapsed": false,
    "pycharm": {
     "name": "#%%\n"
    }
   }
  },
  {
   "cell_type": "code",
   "execution_count": 10,
   "outputs": [
    {
     "name": "stdout",
     "output_type": "stream",
     "text": [
      "1min 30s ± 16.8 s per loop (mean ± std. dev. of 7 runs, 1 loop each)\n",
      "11.8 s ± 316 ms per loop (mean ± std. dev. of 7 runs, 1 loop each)\n"
     ]
    }
   ],
   "source": [
    "%timeit main_run(25, 50, 10, \"cpu\")\n",
    "%timeit main_run(25, 50, 10, \"cuda\")"
   ],
   "metadata": {
    "collapsed": false,
    "pycharm": {
     "name": "#%%\n"
    }
   }
  },
  {
   "cell_type": "code",
   "execution_count": 11,
   "outputs": [
    {
     "name": "stdout",
     "output_type": "stream",
     "text": [
      "3min 19s ± 20.7 s per loop (mean ± std. dev. of 7 runs, 1 loop each)\n",
      "12.4 s ± 917 ms per loop (mean ± std. dev. of 7 runs, 1 loop each)\n"
     ]
    }
   ],
   "source": [
    "%timeit main_run(40, 50, 10, \"cpu\")\n",
    "%timeit main_run(40, 50, 10, \"cuda\")\n"
   ],
   "metadata": {
    "collapsed": false,
    "pycharm": {
     "name": "#%%\n"
    }
   }
  },
  {
   "cell_type": "code",
   "execution_count": 14,
   "outputs": [
    {
     "name": "stdout",
     "output_type": "stream",
     "text": [
      "20.1 s ± 1.96 s per loop (mean ± std. dev. of 7 runs, 1 loop each)\n",
      "1min 3s ± 8.63 s per loop (mean ± std. dev. of 7 runs, 1 loop each)\n"
     ]
    }
   ],
   "source": [
    "%timeit main_run(5, 100, 3, \"cpu\")\n",
    "%timeit main_run(5, 100, 3, \"cuda\")"
   ],
   "metadata": {
    "collapsed": false,
    "pycharm": {
     "name": "#%%\n"
    }
   }
  }
 ],
 "metadata": {
  "kernelspec": {
   "display_name": "Python 3",
   "language": "python",
   "name": "python3"
  },
  "language_info": {
   "codemirror_mode": {
    "name": "ipython",
    "version": 2
   },
   "file_extension": ".py",
   "mimetype": "text/x-python",
   "name": "python",
   "nbconvert_exporter": "python",
   "pygments_lexer": "ipython2",
   "version": "2.7.6"
  }
 },
 "nbformat": 4,
 "nbformat_minor": 0
}