{
 "cells": [
  {
   "cell_type": "markdown",
   "metadata": {
    "collapsed": true,
    "pycharm": {
     "name": "#%% md\n"
    }
   },
   "source": [
    "This notebook is for getting familiar with the LCEGP model.\n",
    "\n",
    "The goal is to better understand its behavior, in particular how the embedding functions.\n",
    "\n",
    "We can use a GP model as the function to estimate to see if the embedding recovers the\n",
    "original sampling locations."
   ]
  },
  {
   "cell_type": "code",
   "execution_count": 1,
   "outputs": [],
   "source": [
    "%matplotlib inline\n",
    "import matplotlib.pyplot as plt\n",
    "import torch\n",
    "from botorch import fit_gpytorch_model\n",
    "from botorch.models import SingleTaskGP\n",
    "from botorch.models.transforms import Standardize\n",
    "from botorch.test_functions import Hartmann\n",
    "from botorch.utils.transforms import unnormalize\n",
    "from gpytorch.mlls import ExactMarginalLogLikelihood\n",
    "from torch import Tensor\n",
    "\n",
    "from contextual_rs.lce_gp import LCEGP\n",
    "\n",
    "\n",
    "def generate_random_gp(\n",
    "    num_train: int,\n",
    "    dim: int,\n",
    "    seed: int = None,\n",
    ") -> SingleTaskGP:\n",
    "    r\"\"\"\n",
    "    Generate a fitted GP model on random data.\n",
    "    \"\"\"\n",
    "    if seed:\n",
    "        torch.manual_seed(seed)\n",
    "    train_x = torch.rand(num_train, dim)\n",
    "    # train_y = torch.randn(num_train, 1)\n",
    "    f = Hartmann(dim=4)\n",
    "    train_y = f(unnormalize(train_x, f.bounds)).view(-1, 1)\n",
    "    model_ = SingleTaskGP(\n",
    "        train_X=train_x,\n",
    "        train_Y=train_y,\n",
    "        outcome_transform=Standardize(m=1),\n",
    "    )\n",
    "    mll_ = ExactMarginalLogLikelihood(model_.likelihood, model_)\n",
    "    _ = fit_gpytorch_model(mll_)\n",
    "    return model_\n",
    "\n",
    "\n",
    "def get_independent_observations(\n",
    "    X: Tensor,\n",
    ") -> Tensor:\n",
    "    r\"\"\"\n",
    "    Generate observations from the given `function_model`, using it as the\n",
    "    objective function. Observations are generated independently,\n",
    "    i.e., by ignoring the correlations between the inputs.\n",
    "    \"\"\"\n",
    "    X_ = X.unsqueeze(-2)\n",
    "    samples_ = function_model.posterior(X_).rsample()\n",
    "    return samples_.view(samples_.shape[:-2])\n",
    "\n",
    "\n",
    "def evaluate_with_embedding(\n",
    "    X: Tensor,\n",
    ") -> Tensor:\n",
    "    r\"\"\"\n",
    "    Evaluate the input `X`, which includes the category index\n",
    "    at the `embedding_col`, by first applying the embedding,\n",
    "    then calling `get_independent_observations`.\n",
    "    \"\"\"\n",
    "    if embedding_col % X.shape[-1] != X.shape[-1] - 1:\n",
    "        raise NotImplementedError(\n",
    "            \"This currently only supports embedding indices at the last column.\"\n",
    "        )\n",
    "    emb_idcs = X[..., embedding_col].long()\n",
    "    embeddings = correct_embedding[emb_idcs].view(*X.shape[:-1], embedding_dim)\n",
    "    X_ = torch.cat(\n",
    "        [X[..., :embedding_col], embeddings], dim=-1\n",
    "    )\n",
    "    return get_independent_observations(X_)\n"
   ],
   "metadata": {
    "collapsed": false,
    "pycharm": {
     "name": "#%%\n"
    }
   }
  },
  {
   "cell_type": "code",
   "execution_count": 2,
   "outputs": [],
   "source": [
    "function_model = generate_random_gp(num_train=100, dim=4, seed=0)\n",
    "correct_embedding = torch.tensor([\n",
    "    [0.2, 0.3],  # 0\n",
    "    [0.3, 0.5],  # 1\n",
    "    [0.5, 0.9],  # 2\n",
    "    [0.23, 0.29],  # 3\n",
    "    [0.9, 0.7],  # 4\n",
    "    [0.0, 0.0],  # 5\n",
    "    [1.0, 1.0],  # 6\n",
    "    [0.5, 0.3],  # 7\n",
    "    [0.6, 0.2],  # 8\n",
    "    [0.8, 0.9],  # 9\n",
    "])\n",
    "embedding_col = -1\n",
    "embedding_dim = 2\n",
    "\n",
    "\n",
    "def train_lcegp(num_train: int) -> LCEGP:\n",
    "    r\"\"\"\n",
    "    Fits LCEGP using the embedding defined above and given number of samples.\n",
    "    \"\"\"\n",
    "    train_X = torch.cat(\n",
    "        [\n",
    "            torch.rand(num_train, 2),\n",
    "            torch.randint(0, 10, (num_train, 1)),\n",
    "        ], dim=-1\n",
    "    )\n",
    "    train_X[:10, -1] = torch.arange(0, 10)  # ensure all indices appear\n",
    "    train_Y = evaluate_with_embedding(train_X).view(num_train, 1).detach()\n",
    "\n",
    "    model_ = LCEGP(\n",
    "        train_X=train_X,\n",
    "        train_Y=train_Y,\n",
    "        categorical_cols=[embedding_col],\n",
    "        embs_dim_list=[embedding_dim],\n",
    "        outcome_transform=Standardize(m=1),\n",
    "    )\n",
    "    mll = ExactMarginalLogLikelihood(model_.likelihood, model_)\n",
    "    _ = fit_gpytorch_model(mll)\n",
    "    return model_\n"
   ],
   "metadata": {
    "collapsed": false,
    "pycharm": {
     "name": "#%%\n"
    }
   }
  },
  {
   "cell_type": "markdown",
   "source": [
    "Let's see what the embedding is like, if it resembles the correct one in any way etc."
   ],
   "metadata": {
    "collapsed": false,
    "pycharm": {
     "name": "#%% md\n"
    }
   }
  },
  {
   "cell_type": "code",
   "execution_count": 3,
   "outputs": [
    {
     "name": "stdout",
     "output_type": "stream",
     "text": [
      "Parameter containing:\n",
      "tensor([[ 0.5724,  0.8317],\n",
      "        [ 0.8136,  0.6791],\n",
      "        [ 1.5252, -1.1715],\n",
      "        [-2.2641, -2.8864],\n",
      "        [ 0.3982, -0.7024],\n",
      "        [-1.7193,  0.3117],\n",
      "        [ 1.1924, -1.3258],\n",
      "        [ 0.4259,  0.8872],\n",
      "        [ 0.1011,  2.2347],\n",
      "        [ 1.6736, -1.9083]], requires_grad=True)\n"
     ]
    }
   ],
   "source": [
    "model = train_lcegp(50)\n",
    "emb_layer = model.emb_layers[0]\n",
    "print(emb_layer.weight)"
   ],
   "metadata": {
    "collapsed": false,
    "pycharm": {
     "name": "#%%\n"
    }
   }
  },
  {
   "cell_type": "code",
   "execution_count": 4,
   "outputs": [
    {
     "name": "stdout",
     "output_type": "stream",
     "text": [
      "Parameter containing:\n",
      "tensor([[-1.6995, -1.1689],\n",
      "        [-0.5259,  0.7041],\n",
      "        [-0.2511, -0.7732],\n",
      "        [ 0.9534, -0.1602],\n",
      "        [-0.4651, -0.8509],\n",
      "        [ 1.2214, -0.6342],\n",
      "        [ 1.0379,  1.4321],\n",
      "        [ 0.9088, -0.1092],\n",
      "        [-0.1314,  0.7965],\n",
      "        [-1.7827,  0.8165]], requires_grad=True)\n"
     ]
    }
   ],
   "source": [
    "model = train_lcegp(500)\n",
    "emb_layer = model.emb_layers[0]\n",
    "learned = emb_layer.weight\n",
    "print(learned)"
   ],
   "metadata": {
    "collapsed": false,
    "pycharm": {
     "name": "#%%\n"
    }
   }
  },
  {
   "cell_type": "code",
   "execution_count": 5,
   "outputs": [
    {
     "data": {
      "text/plain": "<Figure size 432x288 with 1 Axes>",
      "image/png": "[encoded data removed]"
     },
     "metadata": {
      "needs_background": "light"
     },
     "output_type": "display_data"
    }
   ],
   "source": [
    "learned = learned.detach()\n",
    "\n",
    "plt.scatter(correct_embedding[:, 0], correct_embedding[:, 1], label=\"correct\")\n",
    "plt.scatter(learned[:, 0], learned[:, 1], label=\"learned\")\n",
    "plt.legend()\n",
    "plt.show()\n"
   ],
   "metadata": {
    "collapsed": false,
    "pycharm": {
     "name": "#%%\n"
    }
   }
  },
  {
   "cell_type": "markdown",
   "source": [
    "It is hard to make sense of these values. Let's plot some sample paths.\n",
    "\n",
    "Reducing dimension by fixing the first dimension to 0.5."
   ],
   "metadata": {
    "collapsed": false
   }
  },
  {
   "cell_type": "code",
   "execution_count": 6,
   "outputs": [
    {
     "data": {
      "text/plain": "<Figure size 432x288 with 1 Axes>",
      "image/png": "[encoded data removed]"
     },
     "metadata": {
      "needs_background": "light"
     },
     "output_type": "display_data"
    }
   ],
   "source": [
    "plot_x = torch.cat(\n",
    "    [\n",
    "        torch.ones(10, 100, 1) * 0.5,\n",
    "        torch.linspace(0, 1, 100).unsqueeze(-1).expand(10, -1, -1),\n",
    "        torch.arange(0, 10, 1).view(10, 1, 1).expand(-1, 100, -1),\n",
    "    ], dim=-1\n",
    ")\n",
    "\n",
    "pm = model.posterior(plot_x).mean.detach()\n",
    "\n",
    "plt.figure()\n",
    "for i in range(10):\n",
    "    plt.plot(torch.linspace(0, 1, 100), pm[i], label=i)\n",
    "plt.legend()\n",
    "plt.show()"
   ],
   "metadata": {
    "collapsed": false,
    "pycharm": {
     "name": "#%%\n"
    }
   }
  },
  {
   "cell_type": "markdown",
   "source": [
    "Some lines appear to show similar to expected correlation structures, though it is\n",
    "possible that this is simply confirmation bias. An example is lines 6&9."
   ],
   "metadata": {
    "collapsed": false,
    "pycharm": {
     "name": "#%% md\n"
    }
   }
  }
 ],
 "metadata": {
  "kernelspec": {
   "display_name": "Python 3",
   "language": "python",
   "name": "python3"
  },
  "language_info": {
   "codemirror_mode": {
    "name": "ipython",
    "version": 2
   },
   "file_extension": ".py",
   "mimetype": "text/x-python",
   "name": "python",
   "nbconvert_exporter": "python",
   "pygments_lexer": "ipython2",
   "version": "2.7.6"
  }
 },
 "nbformat": 4,
 "nbformat_minor": 0
}