{
 "cells": [
  {
   "cell_type": "markdown",
   "metadata": {
    "collapsed": true,
    "pycharm": {
     "name": "#%% md\n"
    }
   },
   "source": [
    "A simple example demonstrating the benefit of using GP over sample mean."
   ]
  },
  {
   "cell_type": "code",
   "execution_count": 20,
   "outputs": [
    {
     "data": {
      "text/plain": "<torch._C.Generator at 0x7fdc482fb530>"
     },
     "execution_count": 20,
     "metadata": {},
     "output_type": "execute_result"
    }
   ],
   "source": [
    "import matplotlib.pyplot as plt\n",
    "import torch\n",
    "from contextual_rs.models.contextual_independent_model import ContextualIndependentModel\n",
    "from contextual_rs.experiment_utils import fit_modellist\n",
    "from torch import Tensor\n",
    "\n",
    "n_evals = 10\n",
    "std_dev = 2\n",
    "alpha=0.0\n",
    "figsize=(12, 4)\n",
    "arm_diff = 0.5\n",
    "capsize = 10\n",
    "torch.manual_seed(20)"
   ],
   "metadata": {
    "collapsed": false,
    "pycharm": {
     "name": "#%%\n"
    }
   }
  },
  {
   "cell_type": "code",
   "execution_count": 21,
   "outputs": [],
   "source": [
    "def base_func(X: Tensor) -> Tensor:\n",
    "    # return torch.sin((X[..., 0] * arm_diff + X[..., 1]) * 10)\n",
    "    return (X[..., 1] + 1).pow(2) + X[..., 0] * arm_diff"
   ],
   "metadata": {
    "collapsed": false,
    "pycharm": {
     "name": "#%%\n"
    }
   }
  },
  {
   "cell_type": "code",
   "execution_count": 22,
   "outputs": [],
   "source": [
    "arms = torch.tensor([[0.], [1.]])\n",
    "contexts = torch.linspace(0, 1, 10).view(-1, 1)\n",
    "arm_contexts = torch.cat(\n",
    "    [\n",
    "        arms.unsqueeze(-2).repeat(1, 10, 1), contexts.repeat(2, 1, 1)\n",
    "    ], dim=-1\n",
    ")\n",
    "true_evals = base_func(arm_contexts)"
   ],
   "metadata": {
    "collapsed": false,
    "pycharm": {
     "name": "#%%\n"
    }
   }
  },
  {
   "cell_type": "code",
   "execution_count": 23,
   "outputs": [],
   "source": [
    "noisy_evals = true_evals.repeat(n_evals, 1, 1)\n",
    "noisy_evals = noisy_evals + torch.randn_like(noisy_evals) * std_dev"
   ],
   "metadata": {
    "collapsed": false,
    "pycharm": {
     "name": "#%%\n"
    }
   }
  },
  {
   "cell_type": "code",
   "execution_count": 24,
   "outputs": [],
   "source": [
    "X = arm_contexts.view(-1, 2).repeat(n_evals, 1)\n",
    "gp = fit_modellist(\n",
    "    X=X,\n",
    "    Y=noisy_evals.view(-1, 1),\n",
    "    num_arms=2,\n",
    ")\n",
    "\n",
    "X_idcs = X.clone()\n",
    "X_idcs[:, 1] = X_idcs[:, 1] * 9\n",
    "X_idcs = X_idcs.round()\n",
    "\n",
    "indep_model = ContextualIndependentModel(\n",
    "    train_X=X_idcs,\n",
    "    train_Y=noisy_evals.view(-1),\n",
    ")"
   ],
   "metadata": {
    "collapsed": false,
    "pycharm": {
     "name": "#%%\n"
    }
   }
  },
  {
   "cell_type": "code",
   "execution_count": 25,
   "outputs": [],
   "source": [
    "post_gp = gp.posterior(contexts)\n",
    "post_indep = indep_model.posterior(X_idcs[:20])"
   ],
   "metadata": {
    "collapsed": false,
    "pycharm": {
     "name": "#%%\n"
    }
   }
  },
  {
   "cell_type": "code",
   "execution_count": 26,
   "outputs": [],
   "source": [
    "with torch.no_grad():\n",
    "    gp_mean = post_gp.mean\n",
    "    gp_err = 2 * post_gp.variance.sqrt()\n",
    "    indep_mean = post_indep.mean.view(2, 10)\n",
    "    indep_err = 2 * post_indep.variance.view(2, 10).sqrt()"
   ],
   "metadata": {
    "collapsed": false,
    "pycharm": {
     "name": "#%%\n"
    }
   }
  },
  {
   "cell_type": "code",
   "execution_count": 27,
   "outputs": [
    {
     "data": {
      "text/plain": "<Figure size 864x288 with 3 Axes>",
      "image/png": "[encoded data removed]"
     },
     "metadata": {},
     "output_type": "display_data"
    }
   ],
   "source": [
    "fig, axes = plt.subplots(nrows=1, ncols=3, sharex=\"all\", sharey=\"all\", figsize=figsize, squeeze=False)\n",
    "\n",
    "axes[0, 0].scatter(contexts.view(-1), true_evals[0])\n",
    "axes[0, 0].scatter(contexts.view(-1), true_evals[1])\n",
    "axes[0, 0].plot(contexts.view(-1), true_evals[0], alpha=alpha)\n",
    "axes[0, 0].plot(contexts.view(-1), true_evals[1], alpha=alpha)\n",
    "\n",
    "axes[0, 1].scatter(contexts.view(-1), gp_mean[:, 0])\n",
    "axes[0, 1].errorbar(contexts.view(-1), gp_mean[:, 0], yerr=gp_err[:, 0], fmt=\"o\", capsize=capsize)\n",
    "axes[0, 1].scatter(contexts.view(-1), gp_mean[:, 1])\n",
    "axes[0, 1].errorbar(contexts.view(-1), gp_mean[:, 1], yerr=gp_err[:, 1], fmt=\"o\", capsize=capsize)\n",
    "\n",
    "axes[0, 1].plot(contexts.view(-1), gp_mean[:, 0], alpha=alpha)\n",
    "axes[0, 1].plot(contexts.view(-1), gp_mean[:, 1], alpha=alpha)\n",
    "\n",
    "axes[0, 2].scatter(contexts.view(-1), indep_mean[0])\n",
    "axes[0, 2].errorbar(contexts.view(-1), indep_mean[0], yerr=indep_err[0], fmt=\"o\", capsize=capsize)\n",
    "axes[0, 2].scatter(contexts.view(-1), indep_mean[1])\n",
    "axes[0, 2].errorbar(contexts.view(-1), indep_mean[1], yerr=indep_err[1], fmt=\"o\", capsize=capsize)\n",
    "\n",
    "axes[0, 2].plot(contexts.view(-1), indep_mean[0], alpha=alpha)\n",
    "axes[0, 2].plot(contexts.view(-1), indep_mean[1], alpha=alpha)\n",
    "\n",
    "\n",
    "axes[0, 0].set_title(\"True Performance\")\n",
    "axes[0, 1].set_title(\"GP Predictions\")\n",
    "axes[0, 2].set_title(\"Independent Predictions\")\n",
    "\n",
    "for i in range(3):\n",
    "    axes[0, i].set_xlabel(\"Context\")\n",
    "axes[0, 0].set_ylabel(\"Reward\")\n",
    "\n",
    "fig.tight_layout()\n",
    "plt.savefig(\"plots/example.pdf\", dpi=300)\n",
    "fig.patch.set_facecolor('xkcd:mint green')\n",
    "plt.show()\n",
    "\n",
    "xlim = axes[0, 0].get_xlim()\n",
    "ylim = axes[0, 0].get_ylim()"
   ],
   "metadata": {
    "collapsed": false,
    "pycharm": {
     "name": "#%%\n"
    }
   }
  },
  {
   "cell_type": "code",
   "execution_count": 28,
   "outputs": [
    {
     "data": {
      "text/plain": "<Figure size 360x288 with 1 Axes>",
      "image/png": "[encoded data removed]"
     },
     "metadata": {
      "needs_background": "light"
     },
     "output_type": "display_data"
    },
    {
     "data": {
      "text/plain": "<Figure size 360x288 with 1 Axes>",
      "image/png": "[encoded data removed]"
     },
     "metadata": {
      "needs_background": "light"
     },
     "output_type": "display_data"
    },
    {
     "data": {
      "text/plain": "<Figure size 360x288 with 1 Axes>",
      "image/png": "[encoded data removed]"
     },
     "metadata": {
      "needs_background": "light"
     },
     "output_type": "display_data"
    }
   ],
   "source": [
    "figsize = (5, 4)\n",
    "fig, ax = plt.subplots(nrows=1, ncols=1, figsize=figsize)\n",
    "ax.set_xlim(xlim)\n",
    "ax.set_ylim(ylim)\n",
    "ax.set_title(\"True Performance\")\n",
    "\n",
    "ax.scatter(contexts.view(-1), true_evals[0])\n",
    "ax.scatter(contexts.view(-1), true_evals[1])\n",
    "ax.plot(contexts.view(-1), true_evals[0], alpha=alpha)\n",
    "ax.plot(contexts.view(-1), true_evals[1], alpha=alpha)\n",
    "\n",
    "plt.savefig(\"plots/example_true.pdf\", dpi=300)\n",
    "\n",
    "\n",
    "fig, ax = plt.subplots(nrows=1, ncols=1, figsize=figsize)\n",
    "ax.set_xlim(xlim)\n",
    "ax.set_ylim(ylim)\n",
    "ax.set_title(\"GP Predictions\")\n",
    "\n",
    "ax.scatter(contexts.view(-1), gp_mean[:, 0])\n",
    "ax.errorbar(contexts.view(-1), gp_mean[:, 0], yerr=gp_err[:, 0], fmt=\"o\", capsize=capsize)\n",
    "ax.scatter(contexts.view(-1), gp_mean[:, 1])\n",
    "ax.errorbar(contexts.view(-1), gp_mean[:, 1], yerr=gp_err[:, 1], fmt=\"o\", capsize=capsize)\n",
    "\n",
    "ax.plot(contexts.view(-1), gp_mean[:, 0], alpha=alpha)\n",
    "ax.plot(contexts.view(-1), gp_mean[:, 1], alpha=alpha)\n",
    "\n",
    "plt.savefig(\"plots/example_gp.pdf\", dpi=300)\n",
    "\n",
    "\n",
    "fig, ax = plt.subplots(nrows=1, ncols=1, figsize=figsize)\n",
    "ax.set_xlim(xlim)\n",
    "ax.set_ylim(ylim)\n",
    "ax.set_title(\"Independent Predictions\")\n",
    "\n",
    "ax.scatter(contexts.view(-1), indep_mean[0])\n",
    "ax.errorbar(contexts.view(-1), indep_mean[0], yerr=indep_err[0], fmt=\"o\", capsize=capsize)\n",
    "ax.scatter(contexts.view(-1), indep_mean[1])\n",
    "ax.errorbar(contexts.view(-1), indep_mean[1], yerr=indep_err[1], fmt=\"o\", capsize=capsize)\n",
    "\n",
    "ax.plot(contexts.view(-1), indep_mean[0], alpha=alpha)\n",
    "ax.plot(contexts.view(-1), indep_mean[1], alpha=alpha)\n",
    "\n",
    "plt.savefig(\"plots/example_indep.pdf\", dpi=300)"
   ],
   "metadata": {
    "collapsed": false,
    "pycharm": {
     "name": "#%%\n"
    }
   }
  }
 ],
 "metadata": {
  "kernelspec": {
   "display_name": "Python 3",
   "language": "python",
   "name": "python3"
  },
  "language_info": {
   "codemirror_mode": {
    "name": "ipython",
    "version": 2
   },
   "file_extension": ".py",
   "mimetype": "text/x-python",
   "name": "python",
   "nbconvert_exporter": "python",
   "pygments_lexer": "ipython2",
   "version": "2.7.6"
  }
 },
 "nbformat": 4,
 "nbformat_minor": 0
}