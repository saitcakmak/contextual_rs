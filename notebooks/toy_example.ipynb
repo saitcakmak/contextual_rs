{
 "cells": [
  {
   "cell_type": "markdown",
   "metadata": {
    "collapsed": true,
    "pycharm": {
     "name": "#%% md\n"
    }
   },
   "source": [
    "A simple example to try to demonstrate the benefit of GP over sample mean estimators.\n",
    "\n",
    "Try to make a story, using this to help make up some numbers."
   ]
  },
  {
   "cell_type": "code",
   "execution_count": 2,
   "outputs": [],
   "source": [
    "import torch\n",
    "from botorch import fit_gpytorch_model\n",
    "from botorch.models import FixedNoiseGP\n",
    "from gpytorch import ExactMarginalLogLikelihood\n",
    "\n",
    "\n",
    "noise_level = 0.5\n",
    "true_mean = torch.tensor([[-1.], [0.], [1.]])"
   ],
   "metadata": {
    "collapsed": false,
    "pycharm": {
     "name": "#%%\n"
    }
   }
  },
  {
   "cell_type": "code",
   "execution_count": 3,
   "outputs": [
    {
     "name": "stdout",
     "output_type": "stream",
     "text": [
      "tensor([[[-0.3193],\n",
      "         [-0.5994],\n",
      "         [ 1.9475]],\n",
      "\n",
      "        [[-2.1729],\n",
      "         [-0.0986],\n",
      "         [ 0.4242]]])\n"
     ]
    }
   ],
   "source": [
    "observations = true_mean + torch.randn(2, 3, 1) * noise_level\n",
    "print(observations)"
   ],
   "metadata": {
    "collapsed": false,
    "pycharm": {
     "name": "#%%\n"
    }
   }
  },
  {
   "cell_type": "code",
   "execution_count": 4,
   "outputs": [],
   "source": [
    "X = torch.tensor([[0.0], [0.5], [1.0]])\n",
    "\n",
    "model = FixedNoiseGP(X.repeat(2, 1), observations.view(-1, 1), torch.ones(6, 1) * noise_level)\n",
    "mll = ExactMarginalLogLikelihood(model.likelihood, model)\n",
    "_ = fit_gpytorch_model(mll)"
   ],
   "metadata": {
    "collapsed": false,
    "pycharm": {
     "name": "#%%\n"
    }
   }
  },
  {
   "cell_type": "code",
   "execution_count": 5,
   "outputs": [
    {
     "data": {
      "text/plain": "(tensor([[-1.1266],\n         [-0.3106],\n         [ 1.0280]], grad_fn=<UnsqueezeBackward0>),\n tensor([[ 0.2197,  0.0098, -0.0018],\n         [ 0.0098,  0.2167,  0.0098],\n         [-0.0018,  0.0098,  0.2197]], grad_fn=<AddBackward0>))"
     },
     "execution_count": 5,
     "metadata": {},
     "output_type": "execute_result"
    }
   ],
   "source": [
    "model.posterior(X).mean, model.posterior(X).mvn.covariance_matrix"
   ],
   "metadata": {
    "collapsed": false,
    "pycharm": {
     "name": "#%%\n"
    }
   }
  },
  {
   "cell_type": "code",
   "execution_count": 6,
   "outputs": [
    {
     "data": {
      "text/plain": "(tensor([-0.1053, -0.1053, -0.1053], grad_fn=<ExpandBackward>),\n tensor([[2.0346, 0.6980, 0.0920],\n         [0.6980, 2.0346, 0.6980],\n         [0.0920, 0.6980, 2.0346]], grad_fn=<MulBackward0>))"
     },
     "execution_count": 6,
     "metadata": {},
     "output_type": "execute_result"
    }
   ],
   "source": [
    "model.forward(X).mean, model.forward(X).covariance_matrix"
   ],
   "metadata": {
    "collapsed": false,
    "pycharm": {
     "name": "#%%\n"
    }
   }
  },
  {
   "cell_type": "code",
   "execution_count": 7,
   "outputs": [
    {
     "data": {
      "text/plain": "OrderedDict([('constant', tensor([-0.1053]))])"
     },
     "execution_count": 7,
     "metadata": {},
     "output_type": "execute_result"
    }
   ],
   "source": [
    "model.mean_module.state_dict()"
   ],
   "metadata": {
    "collapsed": false,
    "pycharm": {
     "name": "#%%\n"
    }
   }
  },
  {
   "cell_type": "code",
   "execution_count": 8,
   "outputs": [
    {
     "data": {
      "text/plain": "OrderedDict([('raw_outputscale', tensor(1.8945)),\n             ('base_kernel.raw_lengthscale', tensor([[-0.8059]])),\n             ('base_kernel.lengthscale_prior.concentration', tensor(3.)),\n             ('base_kernel.lengthscale_prior.rate', tensor(6.)),\n             ('base_kernel.raw_lengthscale_constraint.lower_bound',\n              tensor(0.)),\n             ('base_kernel.raw_lengthscale_constraint.upper_bound',\n              tensor(inf)),\n             ('outputscale_prior.concentration', tensor(2.)),\n             ('outputscale_prior.rate', tensor(0.1500)),\n             ('raw_outputscale_constraint.lower_bound', tensor(0.)),\n             ('raw_outputscale_constraint.upper_bound', tensor(inf))])"
     },
     "execution_count": 8,
     "metadata": {},
     "output_type": "execute_result"
    }
   ],
   "source": [
    "model.covar_module.state_dict()"
   ],
   "metadata": {
    "collapsed": false,
    "pycharm": {
     "name": "#%%\n"
    }
   }
  },
  {
   "cell_type": "code",
   "execution_count": 9,
   "outputs": [],
   "source": [
    "model.covar_module.raw_outputscale.data = torch.tensor(1.0)"
   ],
   "metadata": {
    "collapsed": false,
    "pycharm": {
     "name": "#%%\n"
    }
   }
  },
  {
   "cell_type": "code",
   "execution_count": 10,
   "outputs": [],
   "source": [
    "model.covar_module.base_kernel.raw_lengthscale.data = torch.tensor(-1.0)"
   ],
   "metadata": {
    "collapsed": false,
    "pycharm": {
     "name": "#%%\n"
    }
   }
  }
 ],
 "metadata": {
  "kernelspec": {
   "display_name": "Python 3",
   "language": "python",
   "name": "python3"
  },
  "language_info": {
   "codemirror_mode": {
    "name": "ipython",
    "version": 2
   },
   "file_extension": ".py",
   "mimetype": "text/x-python",
   "name": "python",
   "nbconvert_exporter": "python",
   "pygments_lexer": "ipython2",
   "version": "2.7.6"
  }
 },
 "nbformat": 4,
 "nbformat_minor": 0
}