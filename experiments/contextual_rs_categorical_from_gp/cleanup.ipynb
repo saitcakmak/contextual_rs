{
 "cells": [
  {
   "cell_type": "markdown",
   "metadata": {
    "collapsed": true,
    "pycharm": {
     "name": "#%% md\n"
    }
   },
   "source": [
    "The output files got quite messed up due to patching up existing output with new\n",
    "alternatives. This notebook is for making sense of and cleaning up some of the output\n",
    "files.\n",
    "\n",
    "We will clean-up LCEGP-reeval to have matching keys in all outputs.\n",
    "\n",
    "Also cleaning up LCEGP-IKG -> Doesn't work properly\n",
    "\n",
    "Cleaning Adam as well -> Inferior to LBFGS"
   ]
  },
  {
   "cell_type": "code",
   "execution_count": 11,
   "outputs": [],
   "source": [
    "import json\n",
    "import os\n",
    "\n",
    "import torch\n",
    "from torch import Tensor\n",
    "\n",
    "%matplotlib inline\n",
    "import matplotlib.pyplot as plt\n",
    "\n",
    "current_dir = os.getcwd()\n",
    "\n",
    "\n",
    "\n",
    "def get_output_files(dirname: str) -> list:\n",
    "    exp_dir = os.path.join(current_dir, dirname)\n",
    "    config_path = os.path.join(exp_dir, \"config.json\")\n",
    "\n",
    "    with open(config_path, \"r\") as f:\n",
    "        config_dict = json.load(f)\n",
    "        print(f\"Config: \\n {json.dumps(config_dict, indent=4)}\")\n",
    "\n",
    "    # get all the output files\n",
    "    directory_list = os.listdir(exp_dir)\n",
    "    output_files = [\n",
    "        os.path.join(exp_dir, file) for file in directory_list if file[-3:] == \".pt\"\n",
    "    ]\n",
    "    return output_files\n",
    "\n",
    "\n",
    "def read_files(output_files: list) -> list:\n",
    "    # read all outputs into a list\n",
    "    output_dicts = list()\n",
    "    for file_path in output_files:\n",
    "        output_dicts.append(torch.load(file_path))\n",
    "    output_count = len(output_dicts)\n",
    "    print(f\"Read {output_count} output files.\")\n",
    "    return output_dicts\n",
    "\n",
    "\n",
    "clean_label = \"LCEGP_Adam\"\n",
    "\n",
    "\n",
    "def clean_all_outputs(output_files: list, expected_index: int) -> None:\n",
    "    for file_path in output_files:\n",
    "        output = torch.load(file_path)\n",
    "        if len(output[\"labels\"]) <= expected_index:\n",
    "            continue\n",
    "        if output[\"labels\"][expected_index] == clean_label:\n",
    "            output[\"labels\"].pop(expected_index)\n",
    "            output[\"X_list\"].pop(expected_index)\n",
    "            output[\"Y_list\"].pop(expected_index)\n",
    "            output[\"pcs_estimates\"].pop(expected_index)\n",
    "            output[\"correct_selection\"].pop(expected_index)\n",
    "            torch.save(output, file_path)\n",
    "            print(f\"Done: {file_path[-7:]}\")"
   ],
   "metadata": {
    "collapsed": false,
    "pycharm": {
     "name": "#%%\n"
    }
   }
  },
  {
   "cell_type": "code",
   "execution_count": 12,
   "outputs": [
    {
     "name": "stdout",
     "output_type": "stream",
     "text": [
      "Config: \n",
      " {\n",
      "    \"iterations\": 200,\n",
      "    \"fit_frequency\": 10,\n",
      "    \"num_arms\": 4,\n",
      "    \"num_contexts\": 10,\n",
      "    \"batch_size\": 1,\n",
      "    \"randomize_ties\": 1\n",
      "}\n",
      "Read 19 output files.\n",
      "Seed 0, labels: ['LCEGP', 'Li', 'Gao'], len pcs: 3\n",
      "Seed 1, labels: ['LCEGP', 'Li', 'Gao'], len pcs: 3\n",
      "Seed 2, labels: ['LCEGP', 'Li', 'Gao'], len pcs: 3\n",
      "Seed 3, labels: ['LCEGP', 'Li', 'Gao'], len pcs: 3\n",
      "Seed 4, labels: ['LCEGP', 'Li', 'Gao'], len pcs: 3\n",
      "Seed 5, labels: ['LCEGP', 'Li', 'Gao'], len pcs: 3\n",
      "Seed 6, labels: ['LCEGP', 'Li', 'Gao'], len pcs: 3\n",
      "Seed 7, labels: ['LCEGP', 'Li', 'Gao'], len pcs: 3\n",
      "Seed 8, labels: ['LCEGP', 'Li', 'Gao'], len pcs: 3\n",
      "Seed 9, labels: ['LCEGP', 'Li', 'Gao'], len pcs: 3\n",
      "Seed 10, labels: ['LCEGP', 'Li', 'Gao'], len pcs: 3\n",
      "Seed 11, labels: ['LCEGP', 'Li', 'Gao'], len pcs: 3\n",
      "Seed 12, labels: ['LCEGP', 'Li', 'Gao'], len pcs: 3\n",
      "Seed 13, labels: ['LCEGP', 'Li', 'Gao'], len pcs: 3\n",
      "Seed 14, labels: ['LCEGP', 'Li', 'Gao'], len pcs: 3\n",
      "Seed 15, labels: ['LCEGP', 'Li', 'Gao'], len pcs: 3\n",
      "Seed 16, labels: ['LCEGP', 'Li', 'Gao'], len pcs: 3\n",
      "Seed 17, labels: ['LCEGP', 'Li', 'Gao'], len pcs: 3\n",
      "Seed 18, labels: ['LCEGP', 'Li', 'Gao'], len pcs: 3\n"
     ]
    }
   ],
   "source": [
    "dirname = \"config_2\"\n",
    "\n",
    "files = get_output_files(dirname)\n",
    "\n",
    "output = read_files(files)\n",
    "\n",
    "for seed, out in enumerate(output):\n",
    "    print(f\"Seed {seed}, labels: {out['labels']}, len pcs: {len(out['pcs_estimates'])}\")"
   ],
   "metadata": {
    "collapsed": false,
    "pycharm": {
     "name": "#%%\n"
    }
   }
  },
  {
   "cell_type": "markdown",
   "source": [
    "Checking that whenever LCEGP_reeval exists, we have a corresponding entry for\n",
    "pcs_estimates and correct_selection."
   ],
   "metadata": {
    "collapsed": false,
    "pycharm": {
     "name": "#%% md\n"
    }
   }
  },
  {
   "cell_type": "code",
   "execution_count": 13,
   "outputs": [
    {
     "name": "stdout",
     "output_type": "stream",
     "text": [
      "key labels, len 3\n",
      "key X_list, len 3\n",
      "key Y_list, len 3\n",
      "key true_means, len 40\n",
      "key pcs_estimates, len 3\n",
      "key correct_selection, len 3\n"
     ]
    }
   ],
   "source": [
    "seed = -1\n",
    "\n",
    "for key in output[seed]:\n",
    "    print(f\"key {key}, len {len(output[seed][key])}\")\n"
   ],
   "metadata": {
    "collapsed": false,
    "pycharm": {
     "name": "#%%\n"
    }
   }
  },
  {
   "cell_type": "code",
   "execution_count": 14,
   "outputs": [],
   "source": [
    "for seed, out in enumerate(output):\n",
    "    len_label = len(out[\"labels\"])\n",
    "    len_pcs = len(out[\"pcs_estimates\"])\n",
    "    len_cs = len(out[\"correct_selection\"])\n",
    "    if len_pcs != len_cs:\n",
    "        print(f\"Seed {seed} has mismatch!\")\n",
    "        raise RuntimeError"
   ],
   "metadata": {
    "collapsed": false,
    "pycharm": {
     "name": "#%%\n"
    }
   }
  },
  {
   "cell_type": "markdown",
   "source": [
    "Now that we're sure that it is all good (did not get error in previous step), we can\n",
    "clean the output.\n"
   ],
   "metadata": {
    "collapsed": false,
    "pycharm": {
     "name": "#%% md\n"
    }
   }
  },
  {
   "cell_type": "code",
   "execution_count": 15,
   "outputs": [],
   "source": [
    "clean_all_outputs(files, 3)"
   ],
   "metadata": {
    "collapsed": false,
    "pycharm": {
     "name": "#%%\n"
    }
   }
  }
 ],
 "metadata": {
  "kernelspec": {
   "display_name": "Python 3",
   "language": "python",
   "name": "python3"
  },
  "language_info": {
   "codemirror_mode": {
    "name": "ipython",
    "version": 2
   },
   "file_extension": ".py",
   "mimetype": "text/x-python",
   "name": "python",
   "nbconvert_exporter": "python",
   "pygments_lexer": "ipython2",
   "version": "2.7.6"
  }
 },
 "nbformat": 4,
 "nbformat_minor": 0
}