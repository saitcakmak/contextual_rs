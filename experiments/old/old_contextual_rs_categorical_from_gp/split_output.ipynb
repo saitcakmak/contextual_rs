{
 "cells": [
  {
   "cell_type": "markdown",
   "metadata": {
    "collapsed": true,
    "pycharm": {
     "name": "#%% md\n"
    }
   },
   "source": [
    "Currently, all output corresponding to a given seed for a given configuration is stored\n",
    "in a single file. This notebook will read such output and split it into multiple files,\n",
    "each named `<seed>_<label>.pt`. This allows for a better management when we only want\n",
    "to focus on a subset of labels etc."
   ]
  },
  {
   "cell_type": "code",
   "execution_count": 1,
   "outputs": [],
   "source": [
    "import json\n",
    "import os\n",
    "\n",
    "import torch\n",
    "\n",
    "parent_dir = os.getcwd()\n",
    "parent_dir = os.path.join(parent_dir, \"backup\")\n",
    "\n",
    "\n",
    "def process(dirname: str) -> None:\n",
    "    exp_dir = os.path.join(parent_dir, dirname)\n",
    "    config_path = os.path.join(exp_dir, \"config.json\")\n",
    "\n",
    "    with open(config_path, \"r\") as f:\n",
    "        config_dict = json.load(f)\n",
    "        print(f\"Config: \\n {json.dumps(config_dict, indent=4)}\")\n",
    "\n",
    "    # get all the output files\n",
    "    directory_list = os.listdir(exp_dir)\n",
    "    output_files = [\n",
    "        os.path.join(exp_dir, file) for file in directory_list if file[-3:] == \".pt\"\n",
    "    ]\n",
    "    print(f\"Found {len(output_files)} files.\")\n",
    "    # read all outputs into a list\n",
    "    for file_path in output_files:\n",
    "        seed = file_path[-7: -3]\n",
    "        try:\n",
    "            assert 0 <= int(seed) <= 9999\n",
    "        except ValueError:\n",
    "            print(f\"Invalid file path: {file_path}!\")\n",
    "            continue\n",
    "        output_dict = torch.load(file_path)\n",
    "        labels = output_dict[\"labels\"]\n",
    "        for i, label in enumerate(labels):\n",
    "            new_dict = {\n",
    "                \"label\": label,\n",
    "                \"X\": output_dict[\"X_list\"][i],\n",
    "                \"Y\": output_dict[\"Y_list\"][i],\n",
    "                \"true_means\": output_dict[\"true_means\"],\n",
    "                \"pcs_estimates\": output_dict[\"pcs_estimates\"][i],\n",
    "                \"correct_selection\": output_dict[\"correct_selection\"][i],\n",
    "            }\n",
    "            file_name = seed + \"_\" + label + \".pt\"\n",
    "            new_path = os.path.join(exp_dir, file_name)\n",
    "            torch.save(new_dict, new_path)\n",
    "        os.remove(file_path)\n",
    "    print(\"Processing complete!\")\n"
   ],
   "metadata": {
    "collapsed": false,
    "pycharm": {
     "name": "#%%\n"
    }
   }
  },
  {
   "cell_type": "code",
   "execution_count": 19,
   "outputs": [
    {
     "name": "stdout",
     "output_type": "stream",
     "text": [
      "Config: \n",
      " {\n",
      "    \"iterations\": 100,\n",
      "    \"fit_frequency\": 25,\n",
      "    \"fit_tries\": 10,\n",
      "    \"num_arms\": 6,\n",
      "    \"num_contexts\": 20,\n",
      "    \"batch_size\": 5,\n",
      "    \"num_fantasies\": 0\n",
      "}\n",
      "Found 20 files.\n",
      "Processing complete!\n"
     ]
    }
   ],
   "source": [
    "process(\"config_13\")"
   ],
   "metadata": {
    "collapsed": false,
    "pycharm": {
     "name": "#%%\n"
    }
   }
  }
 ],
 "metadata": {
  "kernelspec": {
   "display_name": "Python 3",
   "language": "python",
   "name": "python3"
  },
  "language_info": {
   "codemirror_mode": {
    "name": "ipython",
    "version": 2
   },
   "file_extension": ".py",
   "mimetype": "text/x-python",
   "name": "python",
   "nbconvert_exporter": "python",
   "pygments_lexer": "ipython2",
   "version": "2.7.6"
  }
 },
 "nbformat": 4,
 "nbformat_minor": 0
}